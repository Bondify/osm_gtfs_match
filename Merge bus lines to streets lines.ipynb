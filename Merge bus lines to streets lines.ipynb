{
 "cells": [
  {
   "cell_type": "markdown",
   "metadata": {},
   "source": [
    "Get OSM segments as specified in this [link](https://www.npmjs.com/package/movement-data-toolkit)"
   ]
  },
  {
   "cell_type": "code",
   "execution_count": 1,
   "metadata": {},
   "outputs": [],
   "source": [
    "from shapely.geometry import Polygon, Point, LineString\n",
    "from shapely.ops import cascaded_union\n",
    "from shapely import wkt\n",
    "import pandas as pd\n",
    "import keplergl as kp\n",
    "import utm\n",
    "import geopandas as gpd\n",
    "from itertools import compress \n",
    "\n",
    "#!pip install -i https://test.pypi.org/simple/ gtfs-functions-VERSION-1\n",
    "import gtfs_functions as gtfs"
   ]
  },
  {
   "cell_type": "markdown",
   "metadata": {},
   "source": [
    "# GTFS"
   ]
  },
  {
   "cell_type": "markdown",
   "metadata": {},
   "source": [
    "We will start only a couple of lines in the city of Miami."
   ]
  },
  {
   "cell_type": "code",
   "execution_count": 2,
   "metadata": {},
   "outputs": [],
   "source": [
    "# Extract the GTFS\n",
    "gtfs_path = r\"C:\\Users\\santi\\Dropbox (Remix)\\Remix\\Data Team\\Data Analytics\\Load\\GTFS\\MIAMI-DADE\\MIAMI.zip\"\n",
    "\n",
    "routes, stops, stop_times, trips, shapes, gtfs_list = gtfs.import_gtfs(gtfs_path, busiest_date = False)"
   ]
  },
  {
   "cell_type": "code",
   "execution_count": 3,
   "metadata": {},
   "outputs": [],
   "source": [
    "rfilter = routes.loc[routes.route_short_name.isin(['9', '10']), 'route_id'].unique()\n",
    "\n",
    "sfilter = stop_times.loc[stop_times.route_id.isin(rfilter)].reset_index()\n",
    "\n",
    "stops_filter = stops.loc[stops.stop_id.isin(sfilter.stop_id.unique())].reset_index()\n",
    "shapes_filter = shapes.loc[shapes.shape_id.isin(sfilter.shape_id.unique())].reset_index()\n",
    "\n",
    "# Cut the segments\n",
    "bsegments_gdf = gtfs.cut_gtfs(stop_times, stops_filter, shapes_filter)\n",
    "bsegments_gdf.route_id.unique()"
   ]
  },
  {
   "cell_type": "code",
   "execution_count": 920,
   "metadata": {
    "scrolled": false
   },
   "outputs": [
    {
     "name": "stdout",
     "output_type": "stream",
     "text": [
      "User Guide: https://docs.kepler.gl/docs/keplergl-jupyter\n"
     ]
    },
    {
     "data": {
      "application/vnd.jupyter.widget-view+json": {
       "model_id": "1e1cc8a376504190a6dc0e59013da6cc",
       "version_major": 2,
       "version_minor": 0
      },
      "text/plain": [
       "KeplerGl(data={'data':    route_id  direction_id  stop_sequence start_stop_id  \\\n",
       "0     22753             0    …"
      ]
     },
     "metadata": {},
     "output_type": "display_data"
    }
   ],
   "source": [
    "m = kp.KeplerGl(height=400, data=dict(data=bsegments_gdf, name='Lines'))\n",
    "m"
   ]
  },
  {
   "cell_type": "code",
   "execution_count": 23,
   "metadata": {},
   "outputs": [
    {
     "name": "stdout",
     "output_type": "stream",
     "text": [
      "User Guide: https://docs.kepler.gl/docs/keplergl-jupyter\n"
     ]
    },
    {
     "data": {
      "application/vnd.jupyter.widget-view+json": {
       "model_id": "4c6db6976c034c8caafc4281400d7cf6",
       "version_major": 2,
       "version_minor": 0
      },
      "text/plain": [
       "KeplerGl(data={'data':      segment_id                                           geometry\n",
       "0             1  POL…"
      ]
     },
     "metadata": {},
     "output_type": "display_data"
    }
   ],
   "source": [
    "# Buffer the lines 5 meters\n",
    "b_segments = bsegments_gdf.loc[:,['segment_id', 'geometry']].drop_duplicates(subset='segment_id').reset_index().drop('index', axis=1)\n",
    "\n",
    "# Save memory changing the data types\n",
    "stop_segments = pd.DataFrame()\n",
    "stop_segments['stops_id'] = b_segments.segment_id\n",
    "stop_segments['segment_id'] = list(range(1, len(b_segments)+1))\n",
    "\n",
    "b_segments['segment_id'] = stop_segments['segment_id']\n",
    "\n",
    "int_col = b_segments.select_dtypes(include=['int64'])\n",
    "columns = int_col.columns\n",
    "converted_int = int_col.apply(pd.to_numeric, downcast='unsigned')\n",
    "b_segments = pd.merge(b_segments.drop(columns, axis=1), converted_int, left_index=True, right_index=True, how='left')\n",
    "\n",
    "# Get a coord system in meters\n",
    "lat = b_segments.geometry[0].coords[0][1]\n",
    "lon = b_segments.geometry[0].coords[0][0]\n",
    "\n",
    "zone = utm.from_latlon(lat, lon)\n",
    "\n",
    "def code(zone):\n",
    "    #The EPSG code is 32600+zone for positive latitudes and 32700+zone for negatives.\n",
    "    if lat <0:\n",
    "        epsg_code = 32700 + zone[2]\n",
    "    else:\n",
    "        epsg_code = 32600 + zone[2]\n",
    "    return epsg_code\n",
    "\n",
    "# Create the buffers\n",
    "buffer_size = 10\n",
    "\n",
    "buffers = gpd.GeoDataFrame(data = b_segments['segment_id'], geometry = b_segments.to_crs(epsg=code(zone)).buffer(buffer_size).to_crs(epsg=4326))\n",
    "kp.KeplerGl(height=400, data=dict(data=buffers, name='buffers'))"
   ]
  },
  {
   "cell_type": "code",
   "execution_count": 6,
   "metadata": {},
   "outputs": [],
   "source": [
    "# Merge buffers into one polygon to speed up the spatial join (for filtering)\n",
    "polygons = [p for p in buffers.geometry]\n",
    "    \n",
    "u = cascaded_union(polygons)\n",
    "\n",
    "df = pd.DataFrame({'poly': [1], 'geometry':u.wkt})\n",
    "df['geometry'] = df['geometry'].apply(wkt.loads)\n",
    "lines_poly = gpd.GeoDataFrame(data=df.poly, geometry = df.geometry)"
   ]
  },
  {
   "cell_type": "markdown",
   "metadata": {},
   "source": [
    "# Download OSM segments"
   ]
  },
  {
   "cell_type": "code",
   "execution_count": 7,
   "metadata": {},
   "outputs": [],
   "source": [
    "# Query OSM with Overpass API\n",
    "# Filter only roads (no POIs or nodes)\n",
    "import requests\n",
    "import json\n",
    "\n",
    "bounds = lines_poly.geometry.total_bounds\n",
    "\n",
    "overpass_url = \"http://overpass-api.de/api/interpreter\"\n",
    "overpass_query = \"\"\"\n",
    "[out:json];\n",
    "(way[\"highway\"~\"motorway|trunk|primary|secondary|tertiary|unclassified|residential|service|living_street\"]\n",
    "[\"access\"!~\"private|no\"]\n",
    "({0}, {1}, {2}, {3}););\n",
    "out geom;\n",
    "\"\"\".format(bounds[1], bounds[0], bounds[3], bounds[2])\n",
    "\n",
    "response = requests.get(overpass_url, \n",
    "                        params={'data': overpass_query})\n",
    "\n",
    "data = response.json()\n",
    "ways_df = pd.DataFrame(data['elements'])"
   ]
  },
  {
   "cell_type": "code",
   "execution_count": 8,
   "metadata": {},
   "outputs": [],
   "source": [
    "# Transform into a geo data frame with line segments from node to node\n",
    "way_ids = []\n",
    "oneway = []\n",
    "node_ids = []\n",
    "lat_lon = []\n",
    "segment_seq = []\n",
    "\n",
    "for e in data['elements']:\n",
    "    way_ids = way_ids + [e['id']]*len(e['nodes'])\n",
    "    oneway = oneway + [e['tags'].get('oneway', '0')]*len(e['nodes'])\n",
    "    segment_seq = segment_seq + list(range(1, len(e['nodes'])+1))\n",
    "    node_ids = node_ids + e['nodes']\n",
    "    lat_lon = lat_lon + e['geometry']\n",
    "\n",
    "# Convert to int to save memory\n",
    "oneway = [1 if s=='yes' else s for s in oneway] \n",
    "oneway = [0 if s=='no' else s for s in oneway] \n",
    "oneway = list(map(int, oneway))\n",
    "\n",
    "# Parse the json into a dataframe\n",
    "segments = pd.DataFrame()\n",
    "segments['way_id'] = way_ids\n",
    "segments['oneway'] = oneway\n",
    "segments['segment_seq'] = segment_seq\n",
    "\n",
    "\n",
    "# Get lat,lon values right\n",
    "lat = [p['lat'] for p in lat_lon]\n",
    "lon = [p['lon'] for p in lat_lon]\n",
    "\n",
    "# Define our lists\n",
    "bool_list = segments['way_id'] == segments['way_id'].shift(-1)\n",
    "segment_nodes = ['{0} - {1}'.format(str(node_ids[i]), str(node_ids[i+1])) for i in range(0,len(node_ids)-1)]\n",
    "segment_ids = list(range(1, len(segment_nodes)+1))\n",
    "points =  [Point(lon[i], lat[i]) for i in range(0, len(lat))]\n",
    "points_next = points[1:] + [None]\n",
    "\n",
    "# Remove the last node of the segment (it is already in the last segment)\n",
    "segment_ids = list(compress(segment_ids, bool_list)) \n",
    "segment_nodes = list(compress(segment_nodes, bool_list)) \n",
    "points = list(compress(points, bool_list)) \n",
    "points_next = list(compress(points_next, bool_list)) \n",
    "geometry = [LineString([points[i], points_next[i]]) for i in range(0,len(segment_ids))]\n",
    "\n",
    "# Store the nodes of each segment\n",
    "nodes_seg = pd.DataFrame({'osm_segment_id': segment_ids, 'nodes': segment_nodes})\n",
    "\n",
    "# Keep the good data and create the geo data frame\n",
    "segments = segments.loc[bool_list]\n",
    "segments['osm_segment_id'] = segment_ids\n",
    "segments_gdf = gpd.GeoDataFrame(data=segments, geometry = geometry)"
   ]
  },
  {
   "cell_type": "code",
   "execution_count": 9,
   "metadata": {},
   "outputs": [
    {
     "name": "stdout",
     "output_type": "stream",
     "text": [
      "<class 'geopandas.geodataframe.GeoDataFrame'>\n",
      "Int64Index: 51408 entries, 0 to 63643\n",
      "Data columns (total 5 columns):\n",
      " #   Column          Non-Null Count  Dtype   \n",
      "---  ------          --------------  -----   \n",
      " 0   geometry        51408 non-null  geometry\n",
      " 1   way_id          51408 non-null  uint32  \n",
      " 2   oneway          51408 non-null  int64   \n",
      " 3   segment_seq     51408 non-null  uint8   \n",
      " 4   osm_segment_id  51408 non-null  uint16  \n",
      "dtypes: geometry(1), int64(1), uint16(1), uint32(1), uint8(1)\n",
      "memory usage: 4.0 MB\n"
     ]
    }
   ],
   "source": [
    "# Save some memory\n",
    "int_col = segments_gdf.select_dtypes(include=['int64'])\n",
    "columns = int_col.columns\n",
    "converted_int = int_col.apply(pd.to_numeric, downcast='unsigned')\n",
    "\n",
    "segments_gdf = pd.merge(segments_gdf.drop(columns, axis=1), converted_int, left_index=True, right_index=True, how='left')\n",
    "segments_gdf.info(memory_usage=\"deep\")"
   ]
  },
  {
   "cell_type": "code",
   "execution_count": 10,
   "metadata": {},
   "outputs": [
    {
     "name": "stdout",
     "output_type": "stream",
     "text": [
      "Wall time: 20.8 s\n"
     ]
    }
   ],
   "source": [
    "%%time\n",
    "# Keep only the osm segments that intersect the bus lines\n",
    "osm = gpd.sjoin(segments_gdf, lines_poly, op='intersects').reset_index().drop(['index_right', 'poly', 'index'], axis=1)"
   ]
  },
  {
   "cell_type": "code",
   "execution_count": 874,
   "metadata": {},
   "outputs": [
    {
     "name": "stdout",
     "output_type": "stream",
     "text": [
      "<class 'geopandas.geodataframe.GeoDataFrame'>\n",
      "RangeIndex: 3102 entries, 0 to 3101\n",
      "Data columns (total 5 columns):\n",
      " #   Column          Non-Null Count  Dtype   \n",
      "---  ------          --------------  -----   \n",
      " 0   geometry        3102 non-null   geometry\n",
      " 1   way_id          3102 non-null   uint32  \n",
      " 2   oneway          3102 non-null   int64   \n",
      " 3   segment_seq     3102 non-null   uint8   \n",
      " 4   osm_segment_id  3102 non-null   uint16  \n",
      "dtypes: geometry(1), int64(1), uint16(1), uint32(1), uint8(1)\n",
      "memory usage: 69.8 KB\n"
     ]
    }
   ],
   "source": [
    "osm.info(memory_usage=\"deep\")"
   ]
  },
  {
   "cell_type": "code",
   "execution_count": 11,
   "metadata": {},
   "outputs": [
    {
     "name": "stdout",
     "output_type": "stream",
     "text": [
      "User Guide: https://docs.kepler.gl/docs/keplergl-jupyter\n"
     ]
    },
    {
     "data": {
      "application/vnd.jupyter.widget-view+json": {
       "model_id": "2f6038d3780a4a9a83859f0a021fe030",
       "version_major": 2,
       "version_minor": 0
      },
      "text/plain": [
       "KeplerGl(data={'data':                                                geometry     way_id  oneway  \\\n",
       "0     LIN…"
      ]
     },
     "metadata": {},
     "output_type": "display_data"
    }
   ],
   "source": [
    "m = kp.KeplerGl(data=dict(data=osm, name='segments'))\n",
    "m.add_data(data=lines_poly, name='lines_poly')\n",
    "m"
   ]
  },
  {
   "cell_type": "markdown",
   "metadata": {},
   "source": [
    "# Join GTFS segments to OSM segments"
   ]
  },
  {
   "cell_type": "markdown",
   "metadata": {},
   "source": [
    "## 1. Approach with overlay and area calculation (discarded, go to #2)"
   ]
  },
  {
   "cell_type": "code",
   "execution_count": 575,
   "metadata": {},
   "outputs": [],
   "source": [
    "# Right now we filtered  OSM segments that intersect with lines_poly\n",
    "# We will keep only those that more than 50% of their area falls within lines_poly\n",
    "buffer_size = 5\n",
    "\n",
    "buffers_10 = gpd.GeoDataFrame(data = b_segments['segment_id'], geometry = b_segments.to_crs(epsg=code(zone)).buffer(buffer_size).to_crs(epsg=4326))\n",
    "polygons = [p for p in buffers_10.geometry]\n",
    "u = cascaded_union(polygons)\n",
    "\n",
    "df = pd.DataFrame({'poly': [1], 'geometry':u.wkt})\n",
    "df['geometry'] = df['geometry'].apply(wkt.loads)\n",
    "lines_poly_10 = gpd.GeoDataFrame(data=df.poly, geometry = df.geometry)\n",
    "\n",
    "\n",
    "osm.crs = {'init':'epsg:4326'}\n",
    "osm_bu = gpd.GeoDataFrame(data = osm.drop('geometry', axis=1), geometry = osm.to_crs(epsg=code(zone)).buffer(buffer_size).to_crs(epsg=4326))\n",
    "osm_bu['area_osm'] = osm_bu.area"
   ]
  },
  {
   "cell_type": "code",
   "execution_count": 576,
   "metadata": {},
   "outputs": [],
   "source": [
    "# %%time\n",
    "# #osm_test = intersections.loc[intersections.segment_id=='8908-8826']\n",
    "# segments_gdf.crs = {'init':'epsg:4326'}\n",
    "# osm_bu = gpd.GeoDataFrame(data = segments_gdf.drop('geometry', axis=1), geometry = segments_gdf.to_crs(epsg=code(zone)).buffer(buffer_size).to_crs(epsg=4326))\n",
    "# osm_bu['area_osm'] = osm_bu.area\n",
    "\n",
    "last = gpd.overlay(osm_bu, lines_poly_10, how='intersection')\n",
    "last['area_overlay'] = last.area\n",
    "last['per'] = last['area_overlay']/last['area_osm']*100\n",
    "last = last.loc[last.per>30]"
   ]
  },
  {
   "cell_type": "code",
   "execution_count": 578,
   "metadata": {},
   "outputs": [
    {
     "data": {
      "text/plain": [
       "(3102, 2144)"
      ]
     },
     "execution_count": 578,
     "metadata": {},
     "output_type": "execute_result"
    }
   ],
   "source": [
    "len(osm), len(last)"
   ]
  },
  {
   "cell_type": "code",
   "execution_count": 734,
   "metadata": {},
   "outputs": [
    {
     "name": "stdout",
     "output_type": "stream",
     "text": [
      "User Guide: https://docs.kepler.gl/docs/keplergl-jupyter\n"
     ]
    },
    {
     "data": {
      "application/vnd.jupyter.widget-view+json": {
       "model_id": "757c3b77a911422ba8af5d4a34da7a74",
       "version_major": 2,
       "version_minor": 0
      },
      "text/plain": [
       "KeplerGl(data={'data':          way_id  segment_seq           osm_segment_id  \\\n",
       "2      11105776            1  …"
      ]
     },
     "metadata": {},
     "output_type": "display_data"
    }
   ],
   "source": [
    "#osm = osm.loc[osm.osm_segment_id.isin(last.osm_segment_id.unique())]\n",
    "m = kp.KeplerGl(height=600, data=dict(data=osm.loc[osm.osm_segment_id.isin(last.osm_segment_id.unique())], name='bus'))\n",
    "m.add_data(data= lines_poly_10, name='lines')\n",
    "m"
   ]
  },
  {
   "cell_type": "markdown",
   "metadata": {},
   "source": [
    "## 2. Approach with angles and perpendicularity"
   ]
  },
  {
   "cell_type": "markdown",
   "metadata": {},
   "source": [
    "The idea of this approach is to see with which bus segment each osm segment intersects and compare their angles. \n",
    "If their angles are closer to perpendicularity than parallelism, then we'll discard those segments.\n",
    "\n",
    "For this approach we first need to divide each bus segment in shorter lines of only two points. \n",
    "The reason behind this is that their original shape is more complex than a straight line and it is not posible to calculate their slope."
   ]
  },
  {
   "cell_type": "code",
   "execution_count": 14,
   "metadata": {},
   "outputs": [
    {
     "data": {
      "text/html": [
       "<div>\n",
       "<style scoped>\n",
       "    .dataframe tbody tr th:only-of-type {\n",
       "        vertical-align: middle;\n",
       "    }\n",
       "\n",
       "    .dataframe tbody tr th {\n",
       "        vertical-align: top;\n",
       "    }\n",
       "\n",
       "    .dataframe thead th {\n",
       "        text-align: right;\n",
       "    }\n",
       "</style>\n",
       "<table border=\"1\" class=\"dataframe\">\n",
       "  <thead>\n",
       "    <tr style=\"text-align: right;\">\n",
       "      <th></th>\n",
       "      <th>ss_seq</th>\n",
       "      <th>angle</th>\n",
       "      <th>segment_id</th>\n",
       "      <th>ss_id</th>\n",
       "      <th>geometry</th>\n",
       "    </tr>\n",
       "  </thead>\n",
       "  <tbody>\n",
       "    <tr>\n",
       "      <th>0</th>\n",
       "      <td>0</td>\n",
       "      <td>2</td>\n",
       "      <td>1</td>\n",
       "      <td>1</td>\n",
       "      <td>LINESTRING (-80.17219 25.92927, -80.17111 25.9...</td>\n",
       "    </tr>\n",
       "    <tr>\n",
       "      <th>1</th>\n",
       "      <td>1</td>\n",
       "      <td>2</td>\n",
       "      <td>1</td>\n",
       "      <td>2</td>\n",
       "      <td>LINESTRING (-80.17111 25.92932, -80.17067 25.9...</td>\n",
       "    </tr>\n",
       "    <tr>\n",
       "      <th>2</th>\n",
       "      <td>2</td>\n",
       "      <td>-3</td>\n",
       "      <td>1</td>\n",
       "      <td>3</td>\n",
       "      <td>LINESTRING (-80.17067 25.92934, -80.17054 25.9...</td>\n",
       "    </tr>\n",
       "    <tr>\n",
       "      <th>3</th>\n",
       "      <td>3</td>\n",
       "      <td>4</td>\n",
       "      <td>1</td>\n",
       "      <td>4</td>\n",
       "      <td>LINESTRING (-80.17054 25.92933, -80.17017 25.9...</td>\n",
       "    </tr>\n",
       "    <tr>\n",
       "      <th>4</th>\n",
       "      <td>4</td>\n",
       "      <td>-93</td>\n",
       "      <td>1</td>\n",
       "      <td>5</td>\n",
       "      <td>LINESTRING (-80.17017 25.92936, -80.17019 25.9...</td>\n",
       "    </tr>\n",
       "  </tbody>\n",
       "</table>\n",
       "</div>"
      ],
      "text/plain": [
       "   ss_seq  angle  segment_id  ss_id  \\\n",
       "0       0      2           1      1   \n",
       "1       1      2           1      2   \n",
       "2       2     -3           1      3   \n",
       "3       3      4           1      4   \n",
       "4       4    -93           1      5   \n",
       "\n",
       "                                            geometry  \n",
       "0  LINESTRING (-80.17219 25.92927, -80.17111 25.9...  \n",
       "1  LINESTRING (-80.17111 25.92932, -80.17067 25.9...  \n",
       "2  LINESTRING (-80.17067 25.92934, -80.17054 25.9...  \n",
       "3  LINESTRING (-80.17054 25.92933, -80.17017 25.9...  \n",
       "4  LINESTRING (-80.17017 25.92936, -80.17019 25.9...  "
      ]
     },
     "execution_count": 14,
     "metadata": {},
     "output_type": "execute_result"
    }
   ],
   "source": [
    "# Split bus segments into two-points segments and calculate it's angle\n",
    "# For angle is atan(deltay/deltax)\n",
    "# 180 degrees = pi \n",
    "\n",
    "import math\n",
    "\n",
    "def small_segments(s):\n",
    "    lat = s.coords.xy[1]\n",
    "    lon = s.coords.xy[0]\n",
    "\n",
    "    ss = [LineString([(lon[i], lat[i]), (lon[i+1], lat[i+1])]) for i in range(0,len(lat)-1)]\n",
    "    angle = [math.atan2((lat[i+1] - lat[i]),(lon[i+1]-lon[i]))*180/math.pi for i in range(0,len(lat)-1)]\n",
    "    ss_seq = list(range(0,len(ss)))\n",
    "    n = len(ss)\n",
    "    \n",
    "    aux_df = pd.DataFrame()\n",
    "    aux_df['ss_seq'] = pd.to_numeric([int(x) for x in ss_seq], downcast='signed')\n",
    "    aux_df['angle'] = pd.to_numeric([int(x) for x in angle], downcast='signed')\n",
    "    aux_df['geometry'] = ss\n",
    "    \n",
    "    return aux_df\n",
    "\n",
    "def n_ss(s):\n",
    "    n = len(s.coords.xy[1])-1\n",
    "    return n    \n",
    "\n",
    "ss = b_segments.loc[:, 'geometry'].apply(small_segments)\n",
    "ss_df = pd.concat(list(ss))\n",
    "\n",
    "n = b_segments.loc[:, 'geometry'].apply(n_ss)\n",
    "\n",
    "seg_id = [[b_segments.loc[i, 'segment_id']]*n[i]  for i in range(0,len(n))]\n",
    "seg_id = [item for sublist in seg_id for item in sublist]\n",
    "\n",
    "ss_df['segment_id'] = pd.to_numeric([x for x in seg_id], downcast='signed')\n",
    "ss_df['ss_id'] = list(range(1, len(seg_id)+1)) #ss_df['segment_id'].map(str) + '-' + ss_df['ss_seq'].map(str)\n",
    "ss_gdf = gpd.GeoDataFrame(data=ss_df.drop('geometry', axis=1), geometry=ss_df.geometry)\n",
    "ss_gdf.head()"
   ]
  },
  {
   "cell_type": "code",
   "execution_count": 25,
   "metadata": {},
   "outputs": [
    {
     "data": {
      "text/html": [
       "<div>\n",
       "<style scoped>\n",
       "    .dataframe tbody tr th:only-of-type {\n",
       "        vertical-align: middle;\n",
       "    }\n",
       "\n",
       "    .dataframe tbody tr th {\n",
       "        vertical-align: top;\n",
       "    }\n",
       "\n",
       "    .dataframe thead th {\n",
       "        text-align: right;\n",
       "    }\n",
       "</style>\n",
       "<table border=\"1\" class=\"dataframe\">\n",
       "  <thead>\n",
       "    <tr style=\"text-align: right;\">\n",
       "      <th></th>\n",
       "      <th>ss_seq</th>\n",
       "      <th>angle</th>\n",
       "      <th>segment_id</th>\n",
       "      <th>ss_id</th>\n",
       "      <th>geometry</th>\n",
       "    </tr>\n",
       "  </thead>\n",
       "  <tbody>\n",
       "    <tr>\n",
       "      <th>0</th>\n",
       "      <td>0</td>\n",
       "      <td>2</td>\n",
       "      <td>1</td>\n",
       "      <td>1</td>\n",
       "      <td>POLYGON ((-80.17112 25.92938, -80.17111 25.929...</td>\n",
       "    </tr>\n",
       "    <tr>\n",
       "      <th>1</th>\n",
       "      <td>1</td>\n",
       "      <td>2</td>\n",
       "      <td>1</td>\n",
       "      <td>2</td>\n",
       "      <td>POLYGON ((-80.17067 25.92940, -80.17067 25.929...</td>\n",
       "    </tr>\n",
       "    <tr>\n",
       "      <th>2</th>\n",
       "      <td>2</td>\n",
       "      <td>-3</td>\n",
       "      <td>1</td>\n",
       "      <td>3</td>\n",
       "      <td>POLYGON ((-80.17054 25.92940, -80.17053 25.929...</td>\n",
       "    </tr>\n",
       "    <tr>\n",
       "      <th>3</th>\n",
       "      <td>3</td>\n",
       "      <td>4</td>\n",
       "      <td>1</td>\n",
       "      <td>4</td>\n",
       "      <td>POLYGON ((-80.17018 25.92942, -80.17017 25.929...</td>\n",
       "    </tr>\n",
       "    <tr>\n",
       "      <th>4</th>\n",
       "      <td>4</td>\n",
       "      <td>-93</td>\n",
       "      <td>1</td>\n",
       "      <td>5</td>\n",
       "      <td>POLYGON ((-80.17012 25.92914, -80.17012 25.929...</td>\n",
       "    </tr>\n",
       "  </tbody>\n",
       "</table>\n",
       "</div>"
      ],
      "text/plain": [
       "   ss_seq  angle  segment_id  ss_id  \\\n",
       "0       0      2           1      1   \n",
       "1       1      2           1      2   \n",
       "2       2     -3           1      3   \n",
       "3       3      4           1      4   \n",
       "4       4    -93           1      5   \n",
       "\n",
       "                                            geometry  \n",
       "0  POLYGON ((-80.17112 25.92938, -80.17111 25.929...  \n",
       "1  POLYGON ((-80.17067 25.92940, -80.17067 25.929...  \n",
       "2  POLYGON ((-80.17054 25.92940, -80.17053 25.929...  \n",
       "3  POLYGON ((-80.17018 25.92942, -80.17017 25.929...  \n",
       "4  POLYGON ((-80.17012 25.92914, -80.17012 25.929...  "
      ]
     },
     "execution_count": 25,
     "metadata": {},
     "output_type": "execute_result"
    }
   ],
   "source": [
    "# Buffer the small bus segments\n",
    "buffer_size = 7\n",
    "\n",
    "ss_gdf.crs = {'init':'epsg:4326'}\n",
    "ss_buffers = gpd.GeoDataFrame(data = ss_gdf.drop('geometry', axis=1), geometry = ss_gdf.to_crs(epsg=code(zone)).buffer(buffer_size).to_crs(epsg=4326))\n",
    "ss_buffers.head()"
   ]
  },
  {
   "cell_type": "code",
   "execution_count": 26,
   "metadata": {},
   "outputs": [],
   "source": [
    "# Calculate angle of osm segments\n",
    "def angle(s):\n",
    "    lat = s.coords.xy[1]\n",
    "    lon = s.coords.xy[0]\n",
    "    \n",
    "    angle = math.atan2((lat[1] - lat[0]),(lon[1]-lon[0]))*180/math.pi\n",
    "    \n",
    "    return angle\n",
    "\n",
    "osm['osm_angle'] =  pd.to_numeric(osm.geometry.apply(angle).map(int), downcast='signed')"
   ]
  },
  {
   "cell_type": "code",
   "execution_count": 27,
   "metadata": {},
   "outputs": [
    {
     "name": "stdout",
     "output_type": "stream",
     "text": [
      "Wall time: 707 ms\n"
     ]
    }
   ],
   "source": [
    "%%time\n",
    "ss_intersections = gpd.sjoin(osm, ss_buffers, op='intersects').reset_index()\n",
    "ss_intersections['diff'] =ss_intersections['angle']-ss_intersections['osm_angle']\n",
    "\n",
    "# Keep the segments that have \"similar\" angles to their intersections\n",
    "# We consider \"similar\" angles those that have similar values or almost 180 degrees different\n",
    "# in the case that osm segment doesn't have a tag \"oneway=yes\"\n",
    "diff = 40\n",
    "\n",
    "parallel = ss_intersections.loc[(ss_intersections['diff'].map(abs)<diff)|(ss_intersections['diff'].map(abs)>(360-diff))]\n",
    "oneway_seg = ss_intersections.loc[(ss_intersections['oneway']==0)&(ss_intersections['diff'].map(abs).between(180-diff,180+diff))]\n",
    "osm_filtered = parallel.append(oneway_seg)"
   ]
  },
  {
   "cell_type": "code",
   "execution_count": 33,
   "metadata": {},
   "outputs": [
    {
     "name": "stdout",
     "output_type": "stream",
     "text": [
      "User Guide: https://docs.kepler.gl/docs/keplergl-jupyter\n"
     ]
    },
    {
     "data": {
      "application/vnd.jupyter.widget-view+json": {
       "model_id": "17b7df1aee02474ba4798709f1ac64b8",
       "version_major": 2,
       "version_minor": 0
      },
      "text/plain": [
       "KeplerGl(data={'data':        index                                           geometry     way_id  \\\n",
       "12       …"
      ]
     },
     "metadata": {},
     "output_type": "display_data"
    }
   ],
   "source": [
    "m = kp.KeplerGl(height=600, data=dict(data=osm_filtered, name='bus'), #config=config\n",
    "               )\n",
    "m.add_data(data= ss_buffers, name='lines')\n",
    "#m.add_data(data= ss_buffers.loc[~ss_buffers.ss_id.isin(osm_filtered.ss_id.unique())], name='matched lines')\n",
    "m"
   ]
  },
  {
   "cell_type": "code",
   "execution_count": 481,
   "metadata": {},
   "outputs": [],
   "source": [
    "# intersections = gpd.sjoin(osm, buffers, op='intersects').reset_index()"
   ]
  },
  {
   "cell_type": "markdown",
   "metadata": {},
   "source": [
    "### 2.1 Add the overlay approach"
   ]
  },
  {
   "cell_type": "markdown",
   "metadata": {},
   "source": [
    "We still need to clean our OSM segments further. To do so, we will now apply the overlay approach.\n",
    "\n",
    "This approach overlays two polygons and calculated the overlapping area. Then we match the segments with the biggest overlapping area.\n",
    "\n",
    "To do this approach we need to buffer both, OSM segments and GTFS segments."
   ]
  },
  {
   "cell_type": "code",
   "execution_count": 35,
   "metadata": {},
   "outputs": [
    {
     "data": {
      "text/html": [
       "<div>\n",
       "<style scoped>\n",
       "    .dataframe tbody tr th:only-of-type {\n",
       "        vertical-align: middle;\n",
       "    }\n",
       "\n",
       "    .dataframe tbody tr th {\n",
       "        vertical-align: top;\n",
       "    }\n",
       "\n",
       "    .dataframe thead th {\n",
       "        text-align: right;\n",
       "    }\n",
       "</style>\n",
       "<table border=\"1\" class=\"dataframe\">\n",
       "  <thead>\n",
       "    <tr style=\"text-align: right;\">\n",
       "      <th></th>\n",
       "      <th>ss_seq</th>\n",
       "      <th>angle</th>\n",
       "      <th>segment_id</th>\n",
       "      <th>ss_id</th>\n",
       "      <th>geometry</th>\n",
       "    </tr>\n",
       "  </thead>\n",
       "  <tbody>\n",
       "    <tr>\n",
       "      <th>0</th>\n",
       "      <td>0</td>\n",
       "      <td>2</td>\n",
       "      <td>1</td>\n",
       "      <td>1</td>\n",
       "      <td>POLYGON ((-80.17112 25.92938, -80.17111 25.929...</td>\n",
       "    </tr>\n",
       "    <tr>\n",
       "      <th>1</th>\n",
       "      <td>1</td>\n",
       "      <td>2</td>\n",
       "      <td>1</td>\n",
       "      <td>2</td>\n",
       "      <td>POLYGON ((-80.17067 25.92940, -80.17067 25.929...</td>\n",
       "    </tr>\n",
       "    <tr>\n",
       "      <th>2</th>\n",
       "      <td>2</td>\n",
       "      <td>-3</td>\n",
       "      <td>1</td>\n",
       "      <td>3</td>\n",
       "      <td>POLYGON ((-80.17054 25.92940, -80.17053 25.929...</td>\n",
       "    </tr>\n",
       "    <tr>\n",
       "      <th>3</th>\n",
       "      <td>3</td>\n",
       "      <td>4</td>\n",
       "      <td>1</td>\n",
       "      <td>4</td>\n",
       "      <td>POLYGON ((-80.17018 25.92942, -80.17017 25.929...</td>\n",
       "    </tr>\n",
       "    <tr>\n",
       "      <th>4</th>\n",
       "      <td>4</td>\n",
       "      <td>-93</td>\n",
       "      <td>1</td>\n",
       "      <td>5</td>\n",
       "      <td>POLYGON ((-80.17012 25.92914, -80.17012 25.929...</td>\n",
       "    </tr>\n",
       "  </tbody>\n",
       "</table>\n",
       "</div>"
      ],
      "text/plain": [
       "   ss_seq  angle  segment_id  ss_id  \\\n",
       "0       0      2           1      1   \n",
       "1       1      2           1      2   \n",
       "2       2     -3           1      3   \n",
       "3       3      4           1      4   \n",
       "4       4    -93           1      5   \n",
       "\n",
       "                                            geometry  \n",
       "0  POLYGON ((-80.17112 25.92938, -80.17111 25.929...  \n",
       "1  POLYGON ((-80.17067 25.92940, -80.17067 25.929...  \n",
       "2  POLYGON ((-80.17054 25.92940, -80.17053 25.929...  \n",
       "3  POLYGON ((-80.17018 25.92942, -80.17017 25.929...  \n",
       "4  POLYGON ((-80.17012 25.92914, -80.17012 25.929...  "
      ]
     },
     "execution_count": 35,
     "metadata": {},
     "output_type": "execute_result"
    }
   ],
   "source": [
    "ss_buffers.head()"
   ]
  },
  {
   "cell_type": "code",
   "execution_count": 37,
   "metadata": {},
   "outputs": [
    {
     "data": {
      "text/html": [
       "<div>\n",
       "<style scoped>\n",
       "    .dataframe tbody tr th:only-of-type {\n",
       "        vertical-align: middle;\n",
       "    }\n",
       "\n",
       "    .dataframe tbody tr th {\n",
       "        vertical-align: top;\n",
       "    }\n",
       "\n",
       "    .dataframe thead th {\n",
       "        text-align: right;\n",
       "    }\n",
       "</style>\n",
       "<table border=\"1\" class=\"dataframe\">\n",
       "  <thead>\n",
       "    <tr style=\"text-align: right;\">\n",
       "      <th></th>\n",
       "      <th>index</th>\n",
       "      <th>way_id</th>\n",
       "      <th>oneway</th>\n",
       "      <th>segment_seq</th>\n",
       "      <th>osm_segment_id</th>\n",
       "      <th>osm_angle</th>\n",
       "      <th>index_right</th>\n",
       "      <th>diff</th>\n",
       "      <th>area_osm</th>\n",
       "      <th>poly</th>\n",
       "      <th>geometry</th>\n",
       "      <th>area_overlay</th>\n",
       "      <th>per</th>\n",
       "    </tr>\n",
       "  </thead>\n",
       "  <tbody>\n",
       "    <tr>\n",
       "      <th>0</th>\n",
       "      <td>134</td>\n",
       "      <td>11128934</td>\n",
       "      <td>0</td>\n",
       "      <td>1</td>\n",
       "      <td>3305</td>\n",
       "      <td>1</td>\n",
       "      <td>3</td>\n",
       "      <td>1</td>\n",
       "      <td>8.195860e-08</td>\n",
       "      <td>1</td>\n",
       "      <td>POLYGON ((-80.19784 25.88980, -80.19783 25.889...</td>\n",
       "      <td>7.554216e-08</td>\n",
       "      <td>92.171118</td>\n",
       "    </tr>\n",
       "  </tbody>\n",
       "</table>\n",
       "</div>"
      ],
      "text/plain": [
       "   index    way_id  oneway  segment_seq  osm_segment_id  osm_angle  \\\n",
       "0    134  11128934       0            1            3305          1   \n",
       "\n",
       "   index_right  diff      area_osm  poly  \\\n",
       "0            3     1  8.195860e-08     1   \n",
       "\n",
       "                                            geometry  area_overlay        per  \n",
       "0  POLYGON ((-80.19784 25.88980, -80.19783 25.889...  7.554216e-08  92.171118  "
      ]
     },
     "execution_count": 37,
     "metadata": {},
     "output_type": "execute_result"
    }
   ],
   "source": [
    "buffer_size = 5\n",
    "\n",
    "buffers_10 = gpd.GeoDataFrame(data = b_segments['segment_id'], geometry = b_segments.to_crs(epsg=code(zone)).buffer(buffer_size).to_crs(epsg=4326))\n",
    "polygons = [p for p in buffers_10.geometry]\n",
    "u = cascaded_union(polygons)\n",
    "\n",
    "df = pd.DataFrame({'poly': [1], 'geometry':u.wkt})\n",
    "df['geometry'] = df['geometry'].apply(wkt.loads)\n",
    "lines_poly_10 = gpd.GeoDataFrame(data=df.poly, geometry = df.geometry)\n",
    "\n",
    "osm_filtered.crs = {'init':'epsg:4326'}\n",
    "osm_bu = gpd.GeoDataFrame(data = osm_filtered.drop('geometry', axis=1), geometry = osm_filtered.to_crs(epsg=code(zone)).buffer(buffer_size).to_crs(epsg=4326))\n",
    "osm_bu['area_osm'] = osm_bu.area\n",
    "\n",
    "poly_over = gpd.overlay(osm_bu.drop(['ss_seq', 'angle', 'segment_id', 'ss_id'], axis=1), lines_poly_10, how='intersection')\n",
    "poly_over['area_overlay'] = poly_over.area\n",
    "poly_over['per'] = poly_over['area_overlay']/poly_over['area_osm']*100\n",
    "poly_over.head(1)"
   ]
  },
  {
   "cell_type": "code",
   "execution_count": 1020,
   "metadata": {},
   "outputs": [
    {
     "name": "stdout",
     "output_type": "stream",
     "text": [
      "39716 segments overlay\n",
      "Reduced to 19816\n"
     ]
    }
   ],
   "source": [
    "# max_int = poly_over.pivot_table('per', index=['ss_id'], aggfunc='max').reset_index()\n",
    "# max_int.rename(columns=dict(per='max_per'), inplace=True)\n",
    "# poly_over = pd.merge(poly_over, max_int, how='left')\n",
    "# poly_over = poly_over.loc[poly_over.per==poly_over.max_per]"
   ]
  },
  {
   "cell_type": "code",
   "execution_count": 39,
   "metadata": {},
   "outputs": [
    {
     "name": "stdout",
     "output_type": "stream",
     "text": [
      "User Guide: https://docs.kepler.gl/docs/keplergl-jupyter\n"
     ]
    },
    {
     "data": {
      "application/vnd.jupyter.widget-view+json": {
       "model_id": "019d8c0bb25d4c46a40143dcd84d8427",
       "version_major": 2,
       "version_minor": 0
      },
      "text/plain": [
       "KeplerGl(data={'data':        index                                           geometry     way_id  \\\n",
       "12       …"
      ]
     },
     "metadata": {},
     "output_type": "display_data"
    }
   ],
   "source": [
    "m = kp.KeplerGl(height=600, data=dict(data=osm_filtered.loc[osm_filtered.osm_segment_id.isin(poly_over.osm_segment_id.unique())]), name='over',\n",
    "               #config=config\n",
    "               )\n",
    "m.add_data(data= ss_gdf, name='lines')\n",
    "m.add_data(data= poly_over, name='overlay')\n",
    "m"
   ]
  },
  {
   "cell_type": "code",
   "execution_count": null,
   "metadata": {},
   "outputs": [],
   "source": []
  },
  {
   "cell_type": "code",
   "execution_count": 388,
   "metadata": {},
   "outputs": [],
   "source": [
    "tlo = b_segments.loc[279, 'geometry'].coords.xy[0]\n",
    "tla = b_segments.loc[279, 'geometry'].coords.xy[1]\n",
    "\n",
    "tpo = [Point(tlo[i], tla[i]) for i in range(0, len(tlo))]\n",
    "\n",
    "tli = [LineString([tpo[i], tpo[i+1]]) for i in range(0,len(tpo)-1)]"
   ]
  },
  {
   "cell_type": "code",
   "execution_count": 442,
   "metadata": {},
   "outputs": [],
   "source": [
    "t_ = list(range(0,len(tli)))\n",
    "t = pd.DataFrame()\n",
    "t['ss_id'] = t_\n",
    "t['segment_id'] = ['8908-8826']*len(tli)\n",
    "t = gpd.GeoDataFrame(data=t, geometry=tli)"
   ]
  },
  {
   "cell_type": "code",
   "execution_count": 461,
   "metadata": {},
   "outputs": [
    {
     "data": {
      "text/html": [
       "<div>\n",
       "<style scoped>\n",
       "    .dataframe tbody tr th:only-of-type {\n",
       "        vertical-align: middle;\n",
       "    }\n",
       "\n",
       "    .dataframe tbody tr th {\n",
       "        vertical-align: top;\n",
       "    }\n",
       "\n",
       "    .dataframe thead th {\n",
       "        text-align: right;\n",
       "    }\n",
       "</style>\n",
       "<table border=\"1\" class=\"dataframe\">\n",
       "  <thead>\n",
       "    <tr style=\"text-align: right;\">\n",
       "      <th></th>\n",
       "      <th>ss_id</th>\n",
       "      <th>segment_id</th>\n",
       "      <th>geometry</th>\n",
       "    </tr>\n",
       "  </thead>\n",
       "  <tbody>\n",
       "    <tr>\n",
       "      <th>0</th>\n",
       "      <td>0</td>\n",
       "      <td>8908-8826</td>\n",
       "      <td>POLYGON ((-80.19704 25.88977, -80.19705 25.889...</td>\n",
       "    </tr>\n",
       "    <tr>\n",
       "      <th>1</th>\n",
       "      <td>1</td>\n",
       "      <td>8908-8826</td>\n",
       "      <td>POLYGON ((-80.19782 25.88974, -80.19782 25.889...</td>\n",
       "    </tr>\n",
       "    <tr>\n",
       "      <th>2</th>\n",
       "      <td>2</td>\n",
       "      <td>8908-8826</td>\n",
       "      <td>POLYGON ((-80.19865 25.88970, -80.19866 25.889...</td>\n",
       "    </tr>\n",
       "    <tr>\n",
       "      <th>3</th>\n",
       "      <td>3</td>\n",
       "      <td>8908-8826</td>\n",
       "      <td>POLYGON ((-80.19861 25.88955, -80.19861 25.889...</td>\n",
       "    </tr>\n",
       "    <tr>\n",
       "      <th>4</th>\n",
       "      <td>4</td>\n",
       "      <td>8908-8826</td>\n",
       "      <td>POLYGON ((-80.19860 25.88902, -80.19860 25.889...</td>\n",
       "    </tr>\n",
       "    <tr>\n",
       "      <th>5</th>\n",
       "      <td>5</td>\n",
       "      <td>8908-8826</td>\n",
       "      <td>POLYGON ((-80.19863 25.88899, -80.19863 25.888...</td>\n",
       "    </tr>\n",
       "    <tr>\n",
       "      <th>6</th>\n",
       "      <td>6</td>\n",
       "      <td>8908-8826</td>\n",
       "      <td>POLYGON ((-80.19858 25.88834, -80.19858 25.888...</td>\n",
       "    </tr>\n",
       "  </tbody>\n",
       "</table>\n",
       "</div>"
      ],
      "text/plain": [
       "   ss_id segment_id                                           geometry\n",
       "0      0  8908-8826  POLYGON ((-80.19704 25.88977, -80.19705 25.889...\n",
       "1      1  8908-8826  POLYGON ((-80.19782 25.88974, -80.19782 25.889...\n",
       "2      2  8908-8826  POLYGON ((-80.19865 25.88970, -80.19866 25.889...\n",
       "3      3  8908-8826  POLYGON ((-80.19861 25.88955, -80.19861 25.889...\n",
       "4      4  8908-8826  POLYGON ((-80.19860 25.88902, -80.19860 25.889...\n",
       "5      5  8908-8826  POLYGON ((-80.19863 25.88899, -80.19863 25.888...\n",
       "6      6  8908-8826  POLYGON ((-80.19858 25.88834, -80.19858 25.888..."
      ]
     },
     "execution_count": 461,
     "metadata": {},
     "output_type": "execute_result"
    }
   ],
   "source": [
    "buffer_size = 3\n",
    "\n",
    "t.crs = {'init':'epsg:4326'}\n",
    "\n",
    "tbu = gpd.GeoDataFrame(data = t.drop('geometry', axis=1), geometry = t.to_crs(epsg=code(zone)).buffer(buffer_size).to_crs(epsg=4326))\n",
    "tbu"
   ]
  },
  {
   "cell_type": "code",
   "execution_count": 457,
   "metadata": {},
   "outputs": [
    {
     "data": {
      "text/html": [
       "<div>\n",
       "<style scoped>\n",
       "    .dataframe tbody tr th:only-of-type {\n",
       "        vertical-align: middle;\n",
       "    }\n",
       "\n",
       "    .dataframe tbody tr th {\n",
       "        vertical-align: top;\n",
       "    }\n",
       "\n",
       "    .dataframe thead th {\n",
       "        text-align: right;\n",
       "    }\n",
       "</style>\n",
       "<table border=\"1\" class=\"dataframe\">\n",
       "  <thead>\n",
       "    <tr style=\"text-align: right;\">\n",
       "      <th></th>\n",
       "      <th>way_id</th>\n",
       "      <th>segment_seq</th>\n",
       "      <th>osm_segment_id</th>\n",
       "      <th>geometry</th>\n",
       "      <th>area_osm</th>\n",
       "    </tr>\n",
       "  </thead>\n",
       "  <tbody>\n",
       "    <tr>\n",
       "      <th>0</th>\n",
       "      <td>11103228</td>\n",
       "      <td>7</td>\n",
       "      <td>98975025 - 98975028</td>\n",
       "      <td>POLYGON ((-80.19708 25.88978, -80.19708 25.889...</td>\n",
       "      <td>4.530003e-08</td>\n",
       "    </tr>\n",
       "    <tr>\n",
       "      <th>1</th>\n",
       "      <td>11103228</td>\n",
       "      <td>8</td>\n",
       "      <td>98975028 - 98975031</td>\n",
       "      <td>POLYGON ((-80.19717 25.89181, -80.19717 25.891...</td>\n",
       "      <td>1.242749e-07</td>\n",
       "    </tr>\n",
       "    <tr>\n",
       "      <th>2</th>\n",
       "      <td>11105776</td>\n",
       "      <td>1</td>\n",
       "      <td>98999741 - 2915146657</td>\n",
       "      <td>POLYGON ((-80.14509 25.96005, -80.14509 25.960...</td>\n",
       "      <td>1.277068e-08</td>\n",
       "    </tr>\n",
       "    <tr>\n",
       "      <th>3</th>\n",
       "      <td>11106364</td>\n",
       "      <td>1</td>\n",
       "      <td>6366190747 - 6366190722</td>\n",
       "      <td>POLYGON ((-80.14519 25.95936, -80.14519 25.959...</td>\n",
       "      <td>8.363258e-09</td>\n",
       "    </tr>\n",
       "    <tr>\n",
       "      <th>4</th>\n",
       "      <td>11107093</td>\n",
       "      <td>1</td>\n",
       "      <td>99010535 - 99010537</td>\n",
       "      <td>POLYGON ((-80.19108 25.83185, -80.19108 25.831...</td>\n",
       "      <td>6.252647e-08</td>\n",
       "    </tr>\n",
       "    <tr>\n",
       "      <th>...</th>\n",
       "      <td>...</td>\n",
       "      <td>...</td>\n",
       "      <td>...</td>\n",
       "      <td>...</td>\n",
       "      <td>...</td>\n",
       "    </tr>\n",
       "    <tr>\n",
       "      <th>2759</th>\n",
       "      <td>835882554</td>\n",
       "      <td>2</td>\n",
       "      <td>7187981992 - 6945559259</td>\n",
       "      <td>POLYGON ((-80.17005 25.92674, -80.17005 25.926...</td>\n",
       "      <td>2.200858e-08</td>\n",
       "    </tr>\n",
       "    <tr>\n",
       "      <th>2760</th>\n",
       "      <td>835882554</td>\n",
       "      <td>3</td>\n",
       "      <td>6945559259 - 99064510</td>\n",
       "      <td>POLYGON ((-80.17004 25.92663, -80.17004 25.926...</td>\n",
       "      <td>9.428639e-09</td>\n",
       "    </tr>\n",
       "    <tr>\n",
       "      <th>2761</th>\n",
       "      <td>835882555</td>\n",
       "      <td>1</td>\n",
       "      <td>99189930 - 7802016538</td>\n",
       "      <td>POLYGON ((-80.17007 25.92719, -80.17007 25.927...</td>\n",
       "      <td>2.043142e-08</td>\n",
       "    </tr>\n",
       "    <tr>\n",
       "      <th>2762</th>\n",
       "      <td>835882556</td>\n",
       "      <td>1</td>\n",
       "      <td>7802016539 - 6945095202</td>\n",
       "      <td>POLYGON ((-80.17000 25.92584, -80.17000 25.925...</td>\n",
       "      <td>2.486940e-08</td>\n",
       "    </tr>\n",
       "    <tr>\n",
       "      <th>2763</th>\n",
       "      <td>835882556</td>\n",
       "      <td>2</td>\n",
       "      <td>6945095202 - 384023308</td>\n",
       "      <td>POLYGON ((-80.17000 25.92574, -80.17000 25.925...</td>\n",
       "      <td>8.356971e-09</td>\n",
       "    </tr>\n",
       "  </tbody>\n",
       "</table>\n",
       "<p>2764 rows × 5 columns</p>\n",
       "</div>"
      ],
      "text/plain": [
       "         way_id  segment_seq           osm_segment_id  \\\n",
       "0      11103228            7      98975025 - 98975028   \n",
       "1      11103228            8      98975028 - 98975031   \n",
       "2      11105776            1    98999741 - 2915146657   \n",
       "3      11106364            1  6366190747 - 6366190722   \n",
       "4      11107093            1      99010535 - 99010537   \n",
       "...         ...          ...                      ...   \n",
       "2759  835882554            2  7187981992 - 6945559259   \n",
       "2760  835882554            3    6945559259 - 99064510   \n",
       "2761  835882555            1    99189930 - 7802016538   \n",
       "2762  835882556            1  7802016539 - 6945095202   \n",
       "2763  835882556            2   6945095202 - 384023308   \n",
       "\n",
       "                                               geometry      area_osm  \n",
       "0     POLYGON ((-80.19708 25.88978, -80.19708 25.889...  4.530003e-08  \n",
       "1     POLYGON ((-80.19717 25.89181, -80.19717 25.891...  1.242749e-07  \n",
       "2     POLYGON ((-80.14509 25.96005, -80.14509 25.960...  1.277068e-08  \n",
       "3     POLYGON ((-80.14519 25.95936, -80.14519 25.959...  8.363258e-09  \n",
       "4     POLYGON ((-80.19108 25.83185, -80.19108 25.831...  6.252647e-08  \n",
       "...                                                 ...           ...  \n",
       "2759  POLYGON ((-80.17005 25.92674, -80.17005 25.926...  2.200858e-08  \n",
       "2760  POLYGON ((-80.17004 25.92663, -80.17004 25.926...  9.428639e-09  \n",
       "2761  POLYGON ((-80.17007 25.92719, -80.17007 25.927...  2.043142e-08  \n",
       "2762  POLYGON ((-80.17000 25.92584, -80.17000 25.925...  2.486940e-08  \n",
       "2763  POLYGON ((-80.17000 25.92574, -80.17000 25.925...  8.356971e-09  \n",
       "\n",
       "[2764 rows x 5 columns]"
      ]
     },
     "execution_count": 457,
     "metadata": {},
     "output_type": "execute_result"
    }
   ],
   "source": [
    "#osm_test = intersections.loc[intersections.segment_id=='8908-8826']\n",
    "osm.crs = {'init':'epsg:4326'}\n",
    "osm_bu = gpd.GeoDataFrame(data = osm.drop('geometry', axis=1), geometry = osm.to_crs(epsg=code(zone)).buffer(buffer_size).to_crs(epsg=4326))\n",
    "osm_bu['area_osm'] = osm_bu.area\n",
    "osm_bu"
   ]
  },
  {
   "cell_type": "code",
   "execution_count": 486,
   "metadata": {},
   "outputs": [
    {
     "data": {
      "text/html": [
       "<div>\n",
       "<style scoped>\n",
       "    .dataframe tbody tr th:only-of-type {\n",
       "        vertical-align: middle;\n",
       "    }\n",
       "\n",
       "    .dataframe tbody tr th {\n",
       "        vertical-align: top;\n",
       "    }\n",
       "\n",
       "    .dataframe thead th {\n",
       "        text-align: right;\n",
       "    }\n",
       "</style>\n",
       "<table border=\"1\" class=\"dataframe\">\n",
       "  <thead>\n",
       "    <tr style=\"text-align: right;\">\n",
       "      <th></th>\n",
       "      <th>ss_id</th>\n",
       "      <th>segment_id</th>\n",
       "      <th>way_id</th>\n",
       "      <th>segment_seq</th>\n",
       "      <th>osm_segment_id</th>\n",
       "      <th>area_osm</th>\n",
       "      <th>geometry</th>\n",
       "      <th>area_overlay</th>\n",
       "      <th>per</th>\n",
       "      <th>max_per</th>\n",
       "    </tr>\n",
       "  </thead>\n",
       "  <tbody>\n",
       "    <tr>\n",
       "      <th>3</th>\n",
       "      <td>1</td>\n",
       "      <td>8908-8826</td>\n",
       "      <td>11128934</td>\n",
       "      <td>2</td>\n",
       "      <td>99139906 - 98975028</td>\n",
       "      <td>4.511272e-08</td>\n",
       "      <td>POLYGON ((-80.19782 25.88974, -80.19782 25.889...</td>\n",
       "      <td>3.373310e-08</td>\n",
       "      <td>74.775140</td>\n",
       "      <td>74.775140</td>\n",
       "    </tr>\n",
       "    <tr>\n",
       "      <th>5</th>\n",
       "      <td>0</td>\n",
       "      <td>8908-8826</td>\n",
       "      <td>11128934</td>\n",
       "      <td>3</td>\n",
       "      <td>98975028 - 99139908</td>\n",
       "      <td>4.479705e-08</td>\n",
       "      <td>POLYGON ((-80.19704 25.88977, -80.19705 25.889...</td>\n",
       "      <td>2.983087e-08</td>\n",
       "      <td>66.591157</td>\n",
       "      <td>66.591157</td>\n",
       "    </tr>\n",
       "    <tr>\n",
       "      <th>10</th>\n",
       "      <td>2</td>\n",
       "      <td>8908-8826</td>\n",
       "      <td>11128934</td>\n",
       "      <td>1</td>\n",
       "      <td>99139904 - 99139906</td>\n",
       "      <td>4.747895e-08</td>\n",
       "      <td>POLYGON ((-80.19866 25.88970, -80.19866 25.889...</td>\n",
       "      <td>4.126942e-08</td>\n",
       "      <td>86.921505</td>\n",
       "      <td>86.921505</td>\n",
       "    </tr>\n",
       "    <tr>\n",
       "      <th>15</th>\n",
       "      <td>3</td>\n",
       "      <td>8908-8826</td>\n",
       "      <td>105564714</td>\n",
       "      <td>4</td>\n",
       "      <td>99123753 - 99139904</td>\n",
       "      <td>4.528520e-08</td>\n",
       "      <td>POLYGON ((-80.19863 25.88952, -80.19863 25.889...</td>\n",
       "      <td>1.027158e-08</td>\n",
       "      <td>22.681991</td>\n",
       "      <td>22.681991</td>\n",
       "    </tr>\n",
       "    <tr>\n",
       "      <th>16</th>\n",
       "      <td>4</td>\n",
       "      <td>8908-8826</td>\n",
       "      <td>105564714</td>\n",
       "      <td>4</td>\n",
       "      <td>99123753 - 99139904</td>\n",
       "      <td>4.528520e-08</td>\n",
       "      <td>POLYGON ((-80.19865 25.88900, -80.19866 25.889...</td>\n",
       "      <td>2.909899e-08</td>\n",
       "      <td>64.257179</td>\n",
       "      <td>64.257179</td>\n",
       "    </tr>\n",
       "    <tr>\n",
       "      <th>24</th>\n",
       "      <td>5</td>\n",
       "      <td>8908-8826</td>\n",
       "      <td>105564714</td>\n",
       "      <td>3</td>\n",
       "      <td>99321452 - 99123753</td>\n",
       "      <td>4.297106e-08</td>\n",
       "      <td>POLYGON ((-80.19863 25.88899, -80.19863 25.888...</td>\n",
       "      <td>2.584099e-09</td>\n",
       "      <td>6.013579</td>\n",
       "      <td>6.013579</td>\n",
       "    </tr>\n",
       "    <tr>\n",
       "      <th>25</th>\n",
       "      <td>6</td>\n",
       "      <td>8908-8826</td>\n",
       "      <td>105564714</td>\n",
       "      <td>3</td>\n",
       "      <td>99321452 - 99123753</td>\n",
       "      <td>4.297106e-08</td>\n",
       "      <td>POLYGON ((-80.19860 25.88832, -80.19860 25.888...</td>\n",
       "      <td>4.099219e-08</td>\n",
       "      <td>95.394875</td>\n",
       "      <td>95.394875</td>\n",
       "    </tr>\n",
       "  </tbody>\n",
       "</table>\n",
       "</div>"
      ],
      "text/plain": [
       "    ss_id segment_id     way_id  segment_seq       osm_segment_id  \\\n",
       "3       1  8908-8826   11128934            2  99139906 - 98975028   \n",
       "5       0  8908-8826   11128934            3  98975028 - 99139908   \n",
       "10      2  8908-8826   11128934            1  99139904 - 99139906   \n",
       "15      3  8908-8826  105564714            4  99123753 - 99139904   \n",
       "16      4  8908-8826  105564714            4  99123753 - 99139904   \n",
       "24      5  8908-8826  105564714            3  99321452 - 99123753   \n",
       "25      6  8908-8826  105564714            3  99321452 - 99123753   \n",
       "\n",
       "        area_osm                                           geometry  \\\n",
       "3   4.511272e-08  POLYGON ((-80.19782 25.88974, -80.19782 25.889...   \n",
       "5   4.479705e-08  POLYGON ((-80.19704 25.88977, -80.19705 25.889...   \n",
       "10  4.747895e-08  POLYGON ((-80.19866 25.88970, -80.19866 25.889...   \n",
       "15  4.528520e-08  POLYGON ((-80.19863 25.88952, -80.19863 25.889...   \n",
       "16  4.528520e-08  POLYGON ((-80.19865 25.88900, -80.19866 25.889...   \n",
       "24  4.297106e-08  POLYGON ((-80.19863 25.88899, -80.19863 25.888...   \n",
       "25  4.297106e-08  POLYGON ((-80.19860 25.88832, -80.19860 25.888...   \n",
       "\n",
       "    area_overlay        per    max_per  \n",
       "3   3.373310e-08  74.775140  74.775140  \n",
       "5   2.983087e-08  66.591157  66.591157  \n",
       "10  4.126942e-08  86.921505  86.921505  \n",
       "15  1.027158e-08  22.681991  22.681991  \n",
       "16  2.909899e-08  64.257179  64.257179  \n",
       "24  2.584099e-09   6.013579   6.013579  \n",
       "25  4.099219e-08  95.394875  95.394875  "
      ]
     },
     "execution_count": 486,
     "metadata": {},
     "output_type": "execute_result"
    }
   ],
   "source": [
    "max_int = over.pivot_table('per', index='ss_id', aggfunc='max').reset_index()\n",
    "max_int.rename(columns=dict(per='max_per'), inplace=True)\n",
    "over = pd.merge(over, max_int, how='left')\n",
    "over = over.loc[over.per==over.max_per]\n",
    "over"
   ]
  },
  {
   "cell_type": "code",
   "execution_count": 496,
   "metadata": {},
   "outputs": [
    {
     "data": {
      "text/html": [
       "<div>\n",
       "<style scoped>\n",
       "    .dataframe tbody tr th:only-of-type {\n",
       "        vertical-align: middle;\n",
       "    }\n",
       "\n",
       "    .dataframe tbody tr th {\n",
       "        vertical-align: top;\n",
       "    }\n",
       "\n",
       "    .dataframe thead th {\n",
       "        text-align: right;\n",
       "    }\n",
       "</style>\n",
       "<table border=\"1\" class=\"dataframe\">\n",
       "  <thead>\n",
       "    <tr style=\"text-align: right;\">\n",
       "      <th></th>\n",
       "      <th>ss_id</th>\n",
       "      <th>segment_id</th>\n",
       "      <th>way_id</th>\n",
       "      <th>segment_seq</th>\n",
       "      <th>osm_segment_id</th>\n",
       "      <th>area_osm</th>\n",
       "      <th>geometry</th>\n",
       "      <th>area_overlay</th>\n",
       "      <th>per</th>\n",
       "      <th>max_per</th>\n",
       "    </tr>\n",
       "  </thead>\n",
       "  <tbody>\n",
       "    <tr>\n",
       "      <th>3</th>\n",
       "      <td>1</td>\n",
       "      <td>8908-8826</td>\n",
       "      <td>11128934</td>\n",
       "      <td>2</td>\n",
       "      <td>99139906 - 98975028</td>\n",
       "      <td>4.511272e-08</td>\n",
       "      <td>POLYGON ((-80.19782 25.88974, -80.19782 25.889...</td>\n",
       "      <td>3.373310e-08</td>\n",
       "      <td>74.775140</td>\n",
       "      <td>74.775140</td>\n",
       "    </tr>\n",
       "    <tr>\n",
       "      <th>5</th>\n",
       "      <td>0</td>\n",
       "      <td>8908-8826</td>\n",
       "      <td>11128934</td>\n",
       "      <td>3</td>\n",
       "      <td>98975028 - 99139908</td>\n",
       "      <td>4.479705e-08</td>\n",
       "      <td>POLYGON ((-80.19704 25.88977, -80.19705 25.889...</td>\n",
       "      <td>2.983087e-08</td>\n",
       "      <td>66.591157</td>\n",
       "      <td>66.591157</td>\n",
       "    </tr>\n",
       "    <tr>\n",
       "      <th>10</th>\n",
       "      <td>2</td>\n",
       "      <td>8908-8826</td>\n",
       "      <td>11128934</td>\n",
       "      <td>1</td>\n",
       "      <td>99139904 - 99139906</td>\n",
       "      <td>4.747895e-08</td>\n",
       "      <td>POLYGON ((-80.19866 25.88970, -80.19866 25.889...</td>\n",
       "      <td>4.126942e-08</td>\n",
       "      <td>86.921505</td>\n",
       "      <td>86.921505</td>\n",
       "    </tr>\n",
       "    <tr>\n",
       "      <th>15</th>\n",
       "      <td>3</td>\n",
       "      <td>8908-8826</td>\n",
       "      <td>105564714</td>\n",
       "      <td>4</td>\n",
       "      <td>99123753 - 99139904</td>\n",
       "      <td>4.528520e-08</td>\n",
       "      <td>POLYGON ((-80.19863 25.88952, -80.19863 25.889...</td>\n",
       "      <td>1.027158e-08</td>\n",
       "      <td>22.681991</td>\n",
       "      <td>22.681991</td>\n",
       "    </tr>\n",
       "    <tr>\n",
       "      <th>24</th>\n",
       "      <td>5</td>\n",
       "      <td>8908-8826</td>\n",
       "      <td>105564714</td>\n",
       "      <td>3</td>\n",
       "      <td>99321452 - 99123753</td>\n",
       "      <td>4.297106e-08</td>\n",
       "      <td>POLYGON ((-80.19863 25.88899, -80.19863 25.888...</td>\n",
       "      <td>2.584099e-09</td>\n",
       "      <td>6.013579</td>\n",
       "      <td>6.013579</td>\n",
       "    </tr>\n",
       "  </tbody>\n",
       "</table>\n",
       "</div>"
      ],
      "text/plain": [
       "    ss_id segment_id     way_id  segment_seq       osm_segment_id  \\\n",
       "3       1  8908-8826   11128934            2  99139906 - 98975028   \n",
       "5       0  8908-8826   11128934            3  98975028 - 99139908   \n",
       "10      2  8908-8826   11128934            1  99139904 - 99139906   \n",
       "15      3  8908-8826  105564714            4  99123753 - 99139904   \n",
       "24      5  8908-8826  105564714            3  99321452 - 99123753   \n",
       "\n",
       "        area_osm                                           geometry  \\\n",
       "3   4.511272e-08  POLYGON ((-80.19782 25.88974, -80.19782 25.889...   \n",
       "5   4.479705e-08  POLYGON ((-80.19704 25.88977, -80.19705 25.889...   \n",
       "10  4.747895e-08  POLYGON ((-80.19866 25.88970, -80.19866 25.889...   \n",
       "15  4.528520e-08  POLYGON ((-80.19863 25.88952, -80.19863 25.889...   \n",
       "24  4.297106e-08  POLYGON ((-80.19863 25.88899, -80.19863 25.888...   \n",
       "\n",
       "    area_overlay        per    max_per  \n",
       "3   3.373310e-08  74.775140  74.775140  \n",
       "5   2.983087e-08  66.591157  66.591157  \n",
       "10  4.126942e-08  86.921505  86.921505  \n",
       "15  1.027158e-08  22.681991  22.681991  \n",
       "24  2.584099e-09   6.013579   6.013579  "
      ]
     },
     "execution_count": 496,
     "metadata": {},
     "output_type": "execute_result"
    }
   ],
   "source": [
    "over.drop_duplicates(subset=['segment_id', 'osm_segment_id'])"
   ]
  },
  {
   "cell_type": "code",
   "execution_count": 489,
   "metadata": {},
   "outputs": [
    {
     "name": "stdout",
     "output_type": "stream",
     "text": [
      "User Guide: https://docs.kepler.gl/docs/keplergl-jupyter\n"
     ]
    },
    {
     "data": {
      "application/vnd.jupyter.widget-view+json": {
       "model_id": "ac07c94aba844af3983b29ffe5335ba6",
       "version_major": 2,
       "version_minor": 0
      },
      "text/plain": [
       "KeplerGl(data={'data':         way_id  segment_seq       osm_segment_id  \\\n",
       "772  105564714            3  993214…"
      ]
     },
     "metadata": {},
     "output_type": "display_data"
    }
   ],
   "source": [
    "kp.KeplerGl(data=dict(data=osm_bu.loc[osm_bu.osm_segment_id=='99321452 - 99123753'], name='overlay'))"
   ]
  },
  {
   "cell_type": "code",
   "execution_count": 480,
   "metadata": {},
   "outputs": [
    {
     "name": "stdout",
     "output_type": "stream",
     "text": [
      "User Guide: https://docs.kepler.gl/docs/keplergl-jupyter\n"
     ]
    },
    {
     "data": {
      "application/vnd.jupyter.widget-view+json": {
       "model_id": "ccb9ce76a6eb4b418cbeb60a14877524",
       "version_major": 2,
       "version_minor": 0
      },
      "text/plain": [
       "KeplerGl(data={'data':         way_id  segment_seq       osm_segment_id  \\\n",
       "115   11128934            1  991399…"
      ]
     },
     "metadata": {},
     "output_type": "display_data"
    }
   ],
   "source": [
    "kp.KeplerGl(data=dict(data=osm_bu.loc[osm.osm_segment_id.isin(over.osm_segment_id.unique())], name='overlay'))"
   ]
  },
  {
   "cell_type": "code",
   "execution_count": 466,
   "metadata": {},
   "outputs": [
    {
     "name": "stdout",
     "output_type": "stream",
     "text": [
      "User Guide: https://docs.kepler.gl/docs/keplergl-jupyter\n"
     ]
    },
    {
     "data": {
      "application/vnd.jupyter.widget-view+json": {
       "model_id": "1d8368fef89e4bf1bfc23481b074fb46",
       "version_major": 2,
       "version_minor": 0
      },
      "text/plain": [
       "KeplerGl(data={'data':     ss_id segment_id     way_id  segment_seq       osm_segment_id  \\\n",
       "0       0  8908-88…"
      ]
     },
     "metadata": {},
     "output_type": "display_data"
    }
   ],
   "source": [
    "kp.KeplerGl(data=dict(data=over, name='overlay'))"
   ]
  },
  {
   "cell_type": "code",
   "execution_count": 464,
   "metadata": {
    "scrolled": true
   },
   "outputs": [
    {
     "name": "stdout",
     "output_type": "stream",
     "text": [
      "User Guide: https://docs.kepler.gl/docs/keplergl-jupyter\n"
     ]
    },
    {
     "data": {
      "application/vnd.jupyter.widget-view+json": {
       "model_id": "18e2f02fafab43a485df74f82b02dc69",
       "version_major": 2,
       "version_minor": 0
      },
      "text/plain": [
       "KeplerGl(data={'data':          way_id  segment_seq       osm_segment_id  \\\n",
       "0      11103228            7  9897…"
      ]
     },
     "metadata": {},
     "output_type": "display_data"
    }
   ],
   "source": [
    "kp.KeplerGl(data=dict(data=osm.loc[osm.osm_segment_id.isin(over.osm_segment_id.unique())], name='overlay'))"
   ]
  },
  {
   "cell_type": "code",
   "execution_count": 463,
   "metadata": {},
   "outputs": [
    {
     "name": "stdout",
     "output_type": "stream",
     "text": [
      "User Guide: https://docs.kepler.gl/docs/keplergl-jupyter\n"
     ]
    },
    {
     "data": {
      "application/vnd.jupyter.widget-view+json": {
       "model_id": "3649143581594e78969dbed424cefaec",
       "version_major": 2,
       "version_minor": 0
      },
      "text/plain": [
       "KeplerGl(data={'data':    ss_id segment_id                                           geometry\n",
       "0      0  8908-8…"
      ]
     },
     "metadata": {},
     "output_type": "display_data"
    }
   ],
   "source": [
    "kp.KeplerGl(data=dict(data=osm.loc[osm.], name='overlay'))"
   ]
  },
  {
   "cell_type": "code",
   "execution_count": 487,
   "metadata": {},
   "outputs": [
    {
     "name": "stdout",
     "output_type": "stream",
     "text": [
      "User Guide: https://docs.kepler.gl/docs/keplergl-jupyter\n"
     ]
    },
    {
     "data": {
      "application/vnd.jupyter.widget-view+json": {
       "model_id": "cdea204c978e43f3b7249e515919a36b",
       "version_major": 2,
       "version_minor": 0
      },
      "text/plain": [
       "KeplerGl(data={'data':    ss_id segment_id                                           geometry\n",
       "0      0  8908-8…"
      ]
     },
     "metadata": {},
     "output_type": "display_data"
    }
   ],
   "source": [
    "kp.KeplerGl(data=dict(data=t, name='bus'))"
   ]
  },
  {
   "cell_type": "code",
   "execution_count": 495,
   "metadata": {},
   "outputs": [
    {
     "data": {
      "text/plain": [
       "(array('d', [-80.198631, -80.19863199999999]),\n",
       " array('d', [25.889015, 25.889015]))"
      ]
     },
     "execution_count": 495,
     "metadata": {},
     "output_type": "execute_result"
    }
   ],
   "source": [
    "t.loc[5].geometry.coords.xy"
   ]
  },
  {
   "cell_type": "code",
   "execution_count": 412,
   "metadata": {},
   "outputs": [
    {
     "name": "stdout",
     "output_type": "stream",
     "text": [
      "User Guide: https://docs.kepler.gl/docs/keplergl-jupyter\n"
     ]
    },
    {
     "data": {
      "application/vnd.jupyter.widget-view+json": {
       "model_id": "2795ad55a0d443a3b6545e90462b04bd",
       "version_major": 2,
       "version_minor": 0
      },
      "text/plain": [
       "KeplerGl(data={'data':    t                                           geometry\n",
       "0  0  POLYGON ((-80.19704 25.88…"
      ]
     },
     "metadata": {},
     "output_type": "display_data"
    }
   ],
   "source": [
    "buffer_size = 3\n",
    "\n",
    "t.crs = {'init':'epsg:4326'}\n",
    "\n",
    "tbu = gpd.GeoDataFrame(data = t['t'], geometry = t.to_crs(epsg=code(zone)).buffer(buffer_size).to_crs(epsg=4326))\n",
    "kp.KeplerGl(height=400, data=dict(data=tbu, name='buffers'))"
   ]
  },
  {
   "cell_type": "code",
   "execution_count": 377,
   "metadata": {},
   "outputs": [
    {
     "data": {
      "text/html": [
       "<div>\n",
       "<style scoped>\n",
       "    .dataframe tbody tr th:only-of-type {\n",
       "        vertical-align: middle;\n",
       "    }\n",
       "\n",
       "    .dataframe tbody tr th {\n",
       "        vertical-align: top;\n",
       "    }\n",
       "\n",
       "    .dataframe thead th {\n",
       "        text-align: right;\n",
       "    }\n",
       "</style>\n",
       "<table border=\"1\" class=\"dataframe\">\n",
       "  <thead>\n",
       "    <tr style=\"text-align: right;\">\n",
       "      <th></th>\n",
       "      <th>t</th>\n",
       "      <th>geometry</th>\n",
       "    </tr>\n",
       "  </thead>\n",
       "  <tbody>\n",
       "    <tr>\n",
       "      <th>0</th>\n",
       "      <td>t</td>\n",
       "      <td>POLYGON ((-80.19704 25.88977, -80.19705 25.889...</td>\n",
       "    </tr>\n",
       "    <tr>\n",
       "      <th>1</th>\n",
       "      <td>t</td>\n",
       "      <td>POLYGON ((-80.19782 25.88974, -80.19782 25.889...</td>\n",
       "    </tr>\n",
       "    <tr>\n",
       "      <th>2</th>\n",
       "      <td>t</td>\n",
       "      <td>POLYGON ((-80.19865 25.88970, -80.19866 25.889...</td>\n",
       "    </tr>\n",
       "    <tr>\n",
       "      <th>3</th>\n",
       "      <td>t</td>\n",
       "      <td>POLYGON ((-80.19861 25.88955, -80.19861 25.889...</td>\n",
       "    </tr>\n",
       "    <tr>\n",
       "      <th>4</th>\n",
       "      <td>t</td>\n",
       "      <td>POLYGON ((-80.19860 25.88902, -80.19860 25.889...</td>\n",
       "    </tr>\n",
       "    <tr>\n",
       "      <th>5</th>\n",
       "      <td>t</td>\n",
       "      <td>POLYGON ((-80.19863 25.88899, -80.19863 25.888...</td>\n",
       "    </tr>\n",
       "    <tr>\n",
       "      <th>6</th>\n",
       "      <td>t</td>\n",
       "      <td>POLYGON ((-80.19858 25.88834, -80.19858 25.888...</td>\n",
       "    </tr>\n",
       "  </tbody>\n",
       "</table>\n",
       "</div>"
      ],
      "text/plain": [
       "   t                                           geometry\n",
       "0  t  POLYGON ((-80.19704 25.88977, -80.19705 25.889...\n",
       "1  t  POLYGON ((-80.19782 25.88974, -80.19782 25.889...\n",
       "2  t  POLYGON ((-80.19865 25.88970, -80.19866 25.889...\n",
       "3  t  POLYGON ((-80.19861 25.88955, -80.19861 25.889...\n",
       "4  t  POLYGON ((-80.19860 25.88902, -80.19860 25.889...\n",
       "5  t  POLYGON ((-80.19863 25.88899, -80.19863 25.888...\n",
       "6  t  POLYGON ((-80.19858 25.88834, -80.19858 25.888..."
      ]
     },
     "execution_count": 377,
     "metadata": {},
     "output_type": "execute_result"
    }
   ],
   "source": [
    "tbu"
   ]
  },
  {
   "cell_type": "code",
   "execution_count": 376,
   "metadata": {},
   "outputs": [
    {
     "data": {
      "text/html": [
       "<div>\n",
       "<style scoped>\n",
       "    .dataframe tbody tr th:only-of-type {\n",
       "        vertical-align: middle;\n",
       "    }\n",
       "\n",
       "    .dataframe tbody tr th {\n",
       "        vertical-align: top;\n",
       "    }\n",
       "\n",
       "    .dataframe thead th {\n",
       "        text-align: right;\n",
       "    }\n",
       "</style>\n",
       "<table border=\"1\" class=\"dataframe\">\n",
       "  <thead>\n",
       "    <tr style=\"text-align: right;\">\n",
       "      <th></th>\n",
       "      <th>index</th>\n",
       "      <th>way_id</th>\n",
       "      <th>segment_seq</th>\n",
       "      <th>osm_segment_id</th>\n",
       "      <th>index_right</th>\n",
       "      <th>segment_id</th>\n",
       "      <th>geometry</th>\n",
       "    </tr>\n",
       "  </thead>\n",
       "  <tbody>\n",
       "    <tr>\n",
       "      <th>0</th>\n",
       "      <td>0</td>\n",
       "      <td>11103228</td>\n",
       "      <td>7</td>\n",
       "      <td>98975025 - 98975028</td>\n",
       "      <td>279</td>\n",
       "      <td>8908-8826</td>\n",
       "      <td>POLYGON ((-80.19708 25.88978, -80.19708 25.889...</td>\n",
       "    </tr>\n",
       "    <tr>\n",
       "      <th>1</th>\n",
       "      <td>1</td>\n",
       "      <td>11103228</td>\n",
       "      <td>8</td>\n",
       "      <td>98975028 - 98975031</td>\n",
       "      <td>279</td>\n",
       "      <td>8908-8826</td>\n",
       "      <td>POLYGON ((-80.19717 25.89181, -80.19717 25.891...</td>\n",
       "    </tr>\n",
       "    <tr>\n",
       "      <th>2</th>\n",
       "      <td>94</td>\n",
       "      <td>11125963</td>\n",
       "      <td>1</td>\n",
       "      <td>99123753 - 98975025</td>\n",
       "      <td>279</td>\n",
       "      <td>8908-8826</td>\n",
       "      <td>POLYGON ((-80.19701 25.88910, -80.19701 25.889...</td>\n",
       "    </tr>\n",
       "    <tr>\n",
       "      <th>3</th>\n",
       "      <td>115</td>\n",
       "      <td>11128934</td>\n",
       "      <td>1</td>\n",
       "      <td>99139904 - 99139906</td>\n",
       "      <td>279</td>\n",
       "      <td>8908-8826</td>\n",
       "      <td>POLYGON ((-80.19784 25.88978, -80.19783 25.889...</td>\n",
       "    </tr>\n",
       "    <tr>\n",
       "      <th>4</th>\n",
       "      <td>116</td>\n",
       "      <td>11128934</td>\n",
       "      <td>2</td>\n",
       "      <td>99139906 - 98975028</td>\n",
       "      <td>279</td>\n",
       "      <td>8908-8826</td>\n",
       "      <td>POLYGON ((-80.19705 25.88981, -80.19705 25.889...</td>\n",
       "    </tr>\n",
       "    <tr>\n",
       "      <th>5</th>\n",
       "      <td>117</td>\n",
       "      <td>11128934</td>\n",
       "      <td>3</td>\n",
       "      <td>98975028 - 99139908</td>\n",
       "      <td>279</td>\n",
       "      <td>8908-8826</td>\n",
       "      <td>POLYGON ((-80.19628 25.88987, -80.19627 25.889...</td>\n",
       "    </tr>\n",
       "    <tr>\n",
       "      <th>6</th>\n",
       "      <td>207</td>\n",
       "      <td>11141768</td>\n",
       "      <td>1</td>\n",
       "      <td>99139904 - 99221219</td>\n",
       "      <td>279</td>\n",
       "      <td>8908-8826</td>\n",
       "      <td>POLYGON ((-80.19920 25.88968, -80.19920 25.889...</td>\n",
       "    </tr>\n",
       "    <tr>\n",
       "      <th>7</th>\n",
       "      <td>323</td>\n",
       "      <td>11152057</td>\n",
       "      <td>1</td>\n",
       "      <td>99139906 - 99311970</td>\n",
       "      <td>279</td>\n",
       "      <td>8908-8826</td>\n",
       "      <td>POLYGON ((-80.19794 25.89178, -80.19794 25.891...</td>\n",
       "    </tr>\n",
       "    <tr>\n",
       "      <th>8</th>\n",
       "      <td>556</td>\n",
       "      <td>11169671</td>\n",
       "      <td>1</td>\n",
       "      <td>99321452 - 99312001</td>\n",
       "      <td>279</td>\n",
       "      <td>8908-8826</td>\n",
       "      <td>POLYGON ((-80.19774 25.88839, -80.19774 25.888...</td>\n",
       "    </tr>\n",
       "    <tr>\n",
       "      <th>9</th>\n",
       "      <td>771</td>\n",
       "      <td>105564714</td>\n",
       "      <td>2</td>\n",
       "      <td>99091949 - 99321452</td>\n",
       "      <td>279</td>\n",
       "      <td>8908-8826</td>\n",
       "      <td>POLYGON ((-80.19864 25.88834, -80.19864 25.888...</td>\n",
       "    </tr>\n",
       "    <tr>\n",
       "      <th>10</th>\n",
       "      <td>772</td>\n",
       "      <td>105564714</td>\n",
       "      <td>3</td>\n",
       "      <td>99321452 - 99123753</td>\n",
       "      <td>279</td>\n",
       "      <td>8908-8826</td>\n",
       "      <td>POLYGON ((-80.19866 25.88902, -80.19866 25.889...</td>\n",
       "    </tr>\n",
       "    <tr>\n",
       "      <th>11</th>\n",
       "      <td>773</td>\n",
       "      <td>105564714</td>\n",
       "      <td>4</td>\n",
       "      <td>99123753 - 99139904</td>\n",
       "      <td>279</td>\n",
       "      <td>8908-8826</td>\n",
       "      <td>POLYGON ((-80.19869 25.88973, -80.19869 25.889...</td>\n",
       "    </tr>\n",
       "    <tr>\n",
       "      <th>12</th>\n",
       "      <td>1003</td>\n",
       "      <td>190525058</td>\n",
       "      <td>1</td>\n",
       "      <td>99139904 - 99321457</td>\n",
       "      <td>279</td>\n",
       "      <td>8908-8826</td>\n",
       "      <td>POLYGON ((-80.19881 25.89213, -80.19881 25.892...</td>\n",
       "    </tr>\n",
       "  </tbody>\n",
       "</table>\n",
       "</div>"
      ],
      "text/plain": [
       "    index     way_id  segment_seq       osm_segment_id  index_right  \\\n",
       "0       0   11103228            7  98975025 - 98975028          279   \n",
       "1       1   11103228            8  98975028 - 98975031          279   \n",
       "2      94   11125963            1  99123753 - 98975025          279   \n",
       "3     115   11128934            1  99139904 - 99139906          279   \n",
       "4     116   11128934            2  99139906 - 98975028          279   \n",
       "5     117   11128934            3  98975028 - 99139908          279   \n",
       "6     207   11141768            1  99139904 - 99221219          279   \n",
       "7     323   11152057            1  99139906 - 99311970          279   \n",
       "8     556   11169671            1  99321452 - 99312001          279   \n",
       "9     771  105564714            2  99091949 - 99321452          279   \n",
       "10    772  105564714            3  99321452 - 99123753          279   \n",
       "11    773  105564714            4  99123753 - 99139904          279   \n",
       "12   1003  190525058            1  99139904 - 99321457          279   \n",
       "\n",
       "   segment_id                                           geometry  \n",
       "0   8908-8826  POLYGON ((-80.19708 25.88978, -80.19708 25.889...  \n",
       "1   8908-8826  POLYGON ((-80.19717 25.89181, -80.19717 25.891...  \n",
       "2   8908-8826  POLYGON ((-80.19701 25.88910, -80.19701 25.889...  \n",
       "3   8908-8826  POLYGON ((-80.19784 25.88978, -80.19783 25.889...  \n",
       "4   8908-8826  POLYGON ((-80.19705 25.88981, -80.19705 25.889...  \n",
       "5   8908-8826  POLYGON ((-80.19628 25.88987, -80.19627 25.889...  \n",
       "6   8908-8826  POLYGON ((-80.19920 25.88968, -80.19920 25.889...  \n",
       "7   8908-8826  POLYGON ((-80.19794 25.89178, -80.19794 25.891...  \n",
       "8   8908-8826  POLYGON ((-80.19774 25.88839, -80.19774 25.888...  \n",
       "9   8908-8826  POLYGON ((-80.19864 25.88834, -80.19864 25.888...  \n",
       "10  8908-8826  POLYGON ((-80.19866 25.88902, -80.19866 25.889...  \n",
       "11  8908-8826  POLYGON ((-80.19869 25.88973, -80.19869 25.889...  \n",
       "12  8908-8826  POLYGON ((-80.19881 25.89213, -80.19881 25.892...  "
      ]
     },
     "execution_count": 376,
     "metadata": {},
     "output_type": "execute_result"
    }
   ],
   "source": [
    "osm_test = intersections.loc[intersections.segment_id=='8908-8826']\n",
    "osm_test.crs = {'init':'epsg:4326'}\n",
    "osm_bu = gpd.GeoDataFrame(data = osm_test.drop('geometry', axis=1), geometry = osm_test.to_crs(epsg=code(zone)).buffer(buffer_size).to_crs(epsg=4326))\n",
    "osm_bu"
   ]
  },
  {
   "cell_type": "code",
   "execution_count": 397,
   "metadata": {},
   "outputs": [
    {
     "data": {
      "text/html": [
       "<div>\n",
       "<style scoped>\n",
       "    .dataframe tbody tr th:only-of-type {\n",
       "        vertical-align: middle;\n",
       "    }\n",
       "\n",
       "    .dataframe tbody tr th {\n",
       "        vertical-align: top;\n",
       "    }\n",
       "\n",
       "    .dataframe thead th {\n",
       "        text-align: right;\n",
       "    }\n",
       "</style>\n",
       "<table border=\"1\" class=\"dataframe\">\n",
       "  <thead>\n",
       "    <tr style=\"text-align: right;\">\n",
       "      <th></th>\n",
       "      <th>index</th>\n",
       "      <th>way_id</th>\n",
       "      <th>segment_seq</th>\n",
       "      <th>osm_segment_id</th>\n",
       "      <th>segment_id</th>\n",
       "      <th>geometry</th>\n",
       "      <th>index_right</th>\n",
       "      <th>t</th>\n",
       "    </tr>\n",
       "  </thead>\n",
       "  <tbody>\n",
       "    <tr>\n",
       "      <th>0</th>\n",
       "      <td>0</td>\n",
       "      <td>11103228</td>\n",
       "      <td>7</td>\n",
       "      <td>98975025 - 98975028</td>\n",
       "      <td>8908-8826</td>\n",
       "      <td>POLYGON ((-80.19708 25.88978, -80.19708 25.889...</td>\n",
       "      <td>0</td>\n",
       "      <td>t</td>\n",
       "    </tr>\n",
       "    <tr>\n",
       "      <th>1</th>\n",
       "      <td>1</td>\n",
       "      <td>11103228</td>\n",
       "      <td>8</td>\n",
       "      <td>98975028 - 98975031</td>\n",
       "      <td>8908-8826</td>\n",
       "      <td>POLYGON ((-80.19717 25.89181, -80.19717 25.891...</td>\n",
       "      <td>0</td>\n",
       "      <td>t</td>\n",
       "    </tr>\n",
       "    <tr>\n",
       "      <th>2</th>\n",
       "      <td>4</td>\n",
       "      <td>11128934</td>\n",
       "      <td>2</td>\n",
       "      <td>99139906 - 98975028</td>\n",
       "      <td>8908-8826</td>\n",
       "      <td>POLYGON ((-80.19705 25.88981, -80.19705 25.889...</td>\n",
       "      <td>0</td>\n",
       "      <td>t</td>\n",
       "    </tr>\n",
       "    <tr>\n",
       "      <th>3</th>\n",
       "      <td>5</td>\n",
       "      <td>11128934</td>\n",
       "      <td>3</td>\n",
       "      <td>98975028 - 99139908</td>\n",
       "      <td>8908-8826</td>\n",
       "      <td>POLYGON ((-80.19628 25.88987, -80.19627 25.889...</td>\n",
       "      <td>0</td>\n",
       "      <td>t</td>\n",
       "    </tr>\n",
       "    <tr>\n",
       "      <th>4</th>\n",
       "      <td>0</td>\n",
       "      <td>11103228</td>\n",
       "      <td>7</td>\n",
       "      <td>98975025 - 98975028</td>\n",
       "      <td>8908-8826</td>\n",
       "      <td>POLYGON ((-80.19708 25.88978, -80.19708 25.889...</td>\n",
       "      <td>1</td>\n",
       "      <td>t</td>\n",
       "    </tr>\n",
       "    <tr>\n",
       "      <th>5</th>\n",
       "      <td>1</td>\n",
       "      <td>11103228</td>\n",
       "      <td>8</td>\n",
       "      <td>98975028 - 98975031</td>\n",
       "      <td>8908-8826</td>\n",
       "      <td>POLYGON ((-80.19717 25.89181, -80.19717 25.891...</td>\n",
       "      <td>1</td>\n",
       "      <td>t</td>\n",
       "    </tr>\n",
       "    <tr>\n",
       "      <th>6</th>\n",
       "      <td>3</td>\n",
       "      <td>11128934</td>\n",
       "      <td>1</td>\n",
       "      <td>99139904 - 99139906</td>\n",
       "      <td>8908-8826</td>\n",
       "      <td>POLYGON ((-80.19784 25.88978, -80.19783 25.889...</td>\n",
       "      <td>1</td>\n",
       "      <td>t</td>\n",
       "    </tr>\n",
       "    <tr>\n",
       "      <th>7</th>\n",
       "      <td>4</td>\n",
       "      <td>11128934</td>\n",
       "      <td>2</td>\n",
       "      <td>99139906 - 98975028</td>\n",
       "      <td>8908-8826</td>\n",
       "      <td>POLYGON ((-80.19705 25.88981, -80.19705 25.889...</td>\n",
       "      <td>1</td>\n",
       "      <td>t</td>\n",
       "    </tr>\n",
       "    <tr>\n",
       "      <th>8</th>\n",
       "      <td>5</td>\n",
       "      <td>11128934</td>\n",
       "      <td>3</td>\n",
       "      <td>98975028 - 99139908</td>\n",
       "      <td>8908-8826</td>\n",
       "      <td>POLYGON ((-80.19628 25.88987, -80.19627 25.889...</td>\n",
       "      <td>1</td>\n",
       "      <td>t</td>\n",
       "    </tr>\n",
       "    <tr>\n",
       "      <th>9</th>\n",
       "      <td>7</td>\n",
       "      <td>11152057</td>\n",
       "      <td>1</td>\n",
       "      <td>99139906 - 99311970</td>\n",
       "      <td>8908-8826</td>\n",
       "      <td>POLYGON ((-80.19794 25.89178, -80.19794 25.891...</td>\n",
       "      <td>1</td>\n",
       "      <td>t</td>\n",
       "    </tr>\n",
       "  </tbody>\n",
       "</table>\n",
       "</div>"
      ],
      "text/plain": [
       "   index    way_id  segment_seq       osm_segment_id segment_id  \\\n",
       "0      0  11103228            7  98975025 - 98975028  8908-8826   \n",
       "1      1  11103228            8  98975028 - 98975031  8908-8826   \n",
       "2      4  11128934            2  99139906 - 98975028  8908-8826   \n",
       "3      5  11128934            3  98975028 - 99139908  8908-8826   \n",
       "4      0  11103228            7  98975025 - 98975028  8908-8826   \n",
       "5      1  11103228            8  98975028 - 98975031  8908-8826   \n",
       "6      3  11128934            1  99139904 - 99139906  8908-8826   \n",
       "7      4  11128934            2  99139906 - 98975028  8908-8826   \n",
       "8      5  11128934            3  98975028 - 99139908  8908-8826   \n",
       "9      7  11152057            1  99139906 - 99311970  8908-8826   \n",
       "\n",
       "                                            geometry  index_right  t  \n",
       "0  POLYGON ((-80.19708 25.88978, -80.19708 25.889...            0  t  \n",
       "1  POLYGON ((-80.19717 25.89181, -80.19717 25.891...            0  t  \n",
       "2  POLYGON ((-80.19705 25.88981, -80.19705 25.889...            0  t  \n",
       "3  POLYGON ((-80.19628 25.88987, -80.19627 25.889...            0  t  \n",
       "4  POLYGON ((-80.19708 25.88978, -80.19708 25.889...            1  t  \n",
       "5  POLYGON ((-80.19717 25.89181, -80.19717 25.891...            1  t  \n",
       "6  POLYGON ((-80.19784 25.88978, -80.19783 25.889...            1  t  \n",
       "7  POLYGON ((-80.19705 25.88981, -80.19705 25.889...            1  t  \n",
       "8  POLYGON ((-80.19628 25.88987, -80.19627 25.889...            1  t  \n",
       "9  POLYGON ((-80.19794 25.89178, -80.19794 25.891...            1  t  "
      ]
     },
     "execution_count": 397,
     "metadata": {},
     "output_type": "execute_result"
    }
   ],
   "source": [
    "t_int = gpd.sjoin(osm_bu.drop(['index','index_right'], axis=1), tbu.loc[0:1,:], op='intersects').reset_index()\n",
    "t_int"
   ]
  },
  {
   "cell_type": "code",
   "execution_count": 417,
   "metadata": {},
   "outputs": [
    {
     "data": {
      "text/plain": [
       "geopandas.geodataframe.GeoDataFrame"
      ]
     },
     "execution_count": 417,
     "metadata": {},
     "output_type": "execute_result"
    }
   ],
   "source": [
    "type(tbu.head(1))"
   ]
  },
  {
   "cell_type": "code",
   "execution_count": 418,
   "metadata": {},
   "outputs": [
    {
     "name": "stdout",
     "output_type": "stream",
     "text": [
      "User Guide: https://docs.kepler.gl/docs/keplergl-jupyter\n"
     ]
    },
    {
     "data": {
      "application/vnd.jupyter.widget-view+json": {
       "model_id": "aef7c70c665b4dd1beb3df58cde24a01",
       "version_major": 2,
       "version_minor": 0
      },
      "text/plain": [
       "KeplerGl(data={'data':    t                                           geometry\n",
       "0  0  POLYGON ((-80.19704 25.88…"
      ]
     },
     "metadata": {},
     "output_type": "display_data"
    }
   ],
   "source": [
    "kp.KeplerGl(height=400, data=dict(data=tbu.head(1), name='buffers'))"
   ]
  },
  {
   "cell_type": "code",
   "execution_count": 410,
   "metadata": {},
   "outputs": [
    {
     "name": "stdout",
     "output_type": "stream",
     "text": [
      "User Guide: https://docs.kepler.gl/docs/keplergl-jupyter\n"
     ]
    },
    {
     "data": {
      "application/vnd.jupyter.widget-view+json": {
       "model_id": "b1e120b2d2e24ea69e27041cfb05a349",
       "version_major": 2,
       "version_minor": 0
      },
      "text/plain": [
       "KeplerGl(data={'data':    index    way_id  segment_seq       osm_segment_id segment_id  \\\n",
       "0      0  11103228  …"
      ]
     },
     "metadata": {},
     "output_type": "display_data"
    }
   ],
   "source": [
    "kp.KeplerGl(height=400, data=dict(data=t_int.loc[t_int.index_right==0], name='buffers'))"
   ]
  },
  {
   "cell_type": "code",
   "execution_count": 406,
   "metadata": {},
   "outputs": [
    {
     "data": {
      "text/html": [
       "<div>\n",
       "<style scoped>\n",
       "    .dataframe tbody tr th:only-of-type {\n",
       "        vertical-align: middle;\n",
       "    }\n",
       "\n",
       "    .dataframe tbody tr th {\n",
       "        vertical-align: top;\n",
       "    }\n",
       "\n",
       "    .dataframe thead th {\n",
       "        text-align: right;\n",
       "    }\n",
       "</style>\n",
       "<table border=\"1\" class=\"dataframe\">\n",
       "  <thead>\n",
       "    <tr style=\"text-align: right;\">\n",
       "      <th></th>\n",
       "      <th>t_1</th>\n",
       "      <th>index</th>\n",
       "      <th>way_id</th>\n",
       "      <th>segment_seq</th>\n",
       "      <th>osm_segment_id</th>\n",
       "      <th>segment_id</th>\n",
       "      <th>index_right</th>\n",
       "      <th>t_2</th>\n",
       "      <th>geometry</th>\n",
       "    </tr>\n",
       "  </thead>\n",
       "  <tbody>\n",
       "    <tr>\n",
       "      <th>0</th>\n",
       "      <td>t</td>\n",
       "      <td>4</td>\n",
       "      <td>11128934</td>\n",
       "      <td>2</td>\n",
       "      <td>99139906 - 98975028</td>\n",
       "      <td>8908-8826</td>\n",
       "      <td>0</td>\n",
       "      <td>t</td>\n",
       "      <td>POLYGON ((-80.19704 25.88977, -80.19705 25.889...</td>\n",
       "    </tr>\n",
       "    <tr>\n",
       "      <th>1</th>\n",
       "      <td>t</td>\n",
       "      <td>4</td>\n",
       "      <td>11128934</td>\n",
       "      <td>2</td>\n",
       "      <td>99139906 - 98975028</td>\n",
       "      <td>8908-8826</td>\n",
       "      <td>1</td>\n",
       "      <td>t</td>\n",
       "      <td>POLYGON ((-80.19704 25.88977, -80.19705 25.889...</td>\n",
       "    </tr>\n",
       "    <tr>\n",
       "      <th>2</th>\n",
       "      <td>t</td>\n",
       "      <td>1</td>\n",
       "      <td>11103228</td>\n",
       "      <td>8</td>\n",
       "      <td>98975028 - 98975031</td>\n",
       "      <td>8908-8826</td>\n",
       "      <td>0</td>\n",
       "      <td>t</td>\n",
       "      <td>POLYGON ((-80.19704 25.88977, -80.19705 25.889...</td>\n",
       "    </tr>\n",
       "    <tr>\n",
       "      <th>3</th>\n",
       "      <td>t</td>\n",
       "      <td>1</td>\n",
       "      <td>11103228</td>\n",
       "      <td>8</td>\n",
       "      <td>98975028 - 98975031</td>\n",
       "      <td>8908-8826</td>\n",
       "      <td>1</td>\n",
       "      <td>t</td>\n",
       "      <td>POLYGON ((-80.19704 25.88977, -80.19705 25.889...</td>\n",
       "    </tr>\n",
       "    <tr>\n",
       "      <th>4</th>\n",
       "      <td>t</td>\n",
       "      <td>0</td>\n",
       "      <td>11103228</td>\n",
       "      <td>7</td>\n",
       "      <td>98975025 - 98975028</td>\n",
       "      <td>8908-8826</td>\n",
       "      <td>0</td>\n",
       "      <td>t</td>\n",
       "      <td>POLYGON ((-80.19704 25.88977, -80.19705 25.889...</td>\n",
       "    </tr>\n",
       "    <tr>\n",
       "      <th>5</th>\n",
       "      <td>t</td>\n",
       "      <td>0</td>\n",
       "      <td>11103228</td>\n",
       "      <td>7</td>\n",
       "      <td>98975025 - 98975028</td>\n",
       "      <td>8908-8826</td>\n",
       "      <td>1</td>\n",
       "      <td>t</td>\n",
       "      <td>POLYGON ((-80.19704 25.88977, -80.19705 25.889...</td>\n",
       "    </tr>\n",
       "    <tr>\n",
       "      <th>6</th>\n",
       "      <td>t</td>\n",
       "      <td>5</td>\n",
       "      <td>11128934</td>\n",
       "      <td>3</td>\n",
       "      <td>98975028 - 99139908</td>\n",
       "      <td>8908-8826</td>\n",
       "      <td>0</td>\n",
       "      <td>t</td>\n",
       "      <td>POLYGON ((-80.19704 25.88977, -80.19705 25.889...</td>\n",
       "    </tr>\n",
       "    <tr>\n",
       "      <th>7</th>\n",
       "      <td>t</td>\n",
       "      <td>5</td>\n",
       "      <td>11128934</td>\n",
       "      <td>3</td>\n",
       "      <td>98975028 - 99139908</td>\n",
       "      <td>8908-8826</td>\n",
       "      <td>1</td>\n",
       "      <td>t</td>\n",
       "      <td>POLYGON ((-80.19704 25.88977, -80.19705 25.889...</td>\n",
       "    </tr>\n",
       "  </tbody>\n",
       "</table>\n",
       "</div>"
      ],
      "text/plain": [
       "  t_1  index    way_id  segment_seq       osm_segment_id segment_id  \\\n",
       "0   t      4  11128934            2  99139906 - 98975028  8908-8826   \n",
       "1   t      4  11128934            2  99139906 - 98975028  8908-8826   \n",
       "2   t      1  11103228            8  98975028 - 98975031  8908-8826   \n",
       "3   t      1  11103228            8  98975028 - 98975031  8908-8826   \n",
       "4   t      0  11103228            7  98975025 - 98975028  8908-8826   \n",
       "5   t      0  11103228            7  98975025 - 98975028  8908-8826   \n",
       "6   t      5  11128934            3  98975028 - 99139908  8908-8826   \n",
       "7   t      5  11128934            3  98975028 - 99139908  8908-8826   \n",
       "\n",
       "   index_right t_2                                           geometry  \n",
       "0            0   t  POLYGON ((-80.19704 25.88977, -80.19705 25.889...  \n",
       "1            1   t  POLYGON ((-80.19704 25.88977, -80.19705 25.889...  \n",
       "2            0   t  POLYGON ((-80.19704 25.88977, -80.19705 25.889...  \n",
       "3            1   t  POLYGON ((-80.19704 25.88977, -80.19705 25.889...  \n",
       "4            0   t  POLYGON ((-80.19704 25.88977, -80.19705 25.889...  \n",
       "5            1   t  POLYGON ((-80.19704 25.88977, -80.19705 25.889...  \n",
       "6            0   t  POLYGON ((-80.19704 25.88977, -80.19705 25.889...  \n",
       "7            1   t  POLYGON ((-80.19704 25.88977, -80.19705 25.889...  "
      ]
     },
     "execution_count": 406,
     "metadata": {},
     "output_type": "execute_result"
    }
   ],
   "source": [
    "gpd.overlay(tbu.head(1), t_int, how='intersection')"
   ]
  },
  {
   "cell_type": "code",
   "execution_count": 408,
   "metadata": {},
   "outputs": [
    {
     "name": "stdout",
     "output_type": "stream",
     "text": [
      "User Guide: https://docs.kepler.gl/docs/keplergl-jupyter\n"
     ]
    },
    {
     "data": {
      "application/vnd.jupyter.widget-view+json": {
       "model_id": "561606ccd3c04ebc9bc44fbd62a20962",
       "version_major": 2,
       "version_minor": 0
      },
      "text/plain": [
       "KeplerGl(data={'data':   t_1  index    way_id  segment_seq       osm_segment_id segment_id  \\\n",
       "0   t      4  11…"
      ]
     },
     "metadata": {},
     "output_type": "display_data"
    }
   ],
   "source": [
    "kp.KeplerGl(height=400, data=dict(data=gpd.overlay(tbu.head(1), t_int, how='intersection')))"
   ]
  },
  {
   "cell_type": "code",
   "execution_count": 428,
   "metadata": {},
   "outputs": [
    {
     "data": {
      "text/plain": [
       "3.3146897501504983e-08"
      ]
     },
     "execution_count": 428,
     "metadata": {},
     "output_type": "execute_result"
    }
   ],
   "source": [
    "tbu.head(1).area.values[0]"
   ]
  },
  {
   "cell_type": "code",
   "execution_count": null,
   "metadata": {},
   "outputs": [],
   "source": []
  },
  {
   "cell_type": "code",
   "execution_count": 429,
   "metadata": {},
   "outputs": [
    {
     "data": {
      "text/plain": [
       "array([ 5.34658962,  5.34658962,  7.44132152,  7.44132152,  5.28224379,\n",
       "        5.28224379, 89.99597842, 89.99597842])"
      ]
     },
     "execution_count": 429,
     "metadata": {},
     "output_type": "execute_result"
    }
   ],
   "source": [
    "gpd.overlay(tbu.head(1), t_int, how='intersection').area.values/tbu.head(1).area.values[0]*100"
   ]
  },
  {
   "cell_type": "code",
   "execution_count": 430,
   "metadata": {},
   "outputs": [
    {
     "data": {
      "text/html": [
       "<div>\n",
       "<style scoped>\n",
       "    .dataframe tbody tr th:only-of-type {\n",
       "        vertical-align: middle;\n",
       "    }\n",
       "\n",
       "    .dataframe tbody tr th {\n",
       "        vertical-align: top;\n",
       "    }\n",
       "\n",
       "    .dataframe thead th {\n",
       "        text-align: right;\n",
       "    }\n",
       "</style>\n",
       "<table border=\"1\" class=\"dataframe\">\n",
       "  <thead>\n",
       "    <tr style=\"text-align: right;\">\n",
       "      <th></th>\n",
       "      <th>t_1</th>\n",
       "      <th>index</th>\n",
       "      <th>way_id</th>\n",
       "      <th>segment_seq</th>\n",
       "      <th>osm_segment_id</th>\n",
       "      <th>segment_id</th>\n",
       "      <th>index_right</th>\n",
       "      <th>t_2</th>\n",
       "      <th>geometry</th>\n",
       "      <th>area</th>\n",
       "    </tr>\n",
       "  </thead>\n",
       "  <tbody>\n",
       "    <tr>\n",
       "      <th>0</th>\n",
       "      <td>0</td>\n",
       "      <td>4</td>\n",
       "      <td>11128934</td>\n",
       "      <td>2</td>\n",
       "      <td>99139906 - 98975028</td>\n",
       "      <td>8908-8826</td>\n",
       "      <td>0</td>\n",
       "      <td>t</td>\n",
       "      <td>POLYGON ((-80.19704 25.88977, -80.19705 25.889...</td>\n",
       "      <td>1.772229e-09</td>\n",
       "    </tr>\n",
       "    <tr>\n",
       "      <th>1</th>\n",
       "      <td>0</td>\n",
       "      <td>4</td>\n",
       "      <td>11128934</td>\n",
       "      <td>2</td>\n",
       "      <td>99139906 - 98975028</td>\n",
       "      <td>8908-8826</td>\n",
       "      <td>1</td>\n",
       "      <td>t</td>\n",
       "      <td>POLYGON ((-80.19704 25.88977, -80.19705 25.889...</td>\n",
       "      <td>1.772229e-09</td>\n",
       "    </tr>\n",
       "    <tr>\n",
       "      <th>2</th>\n",
       "      <td>0</td>\n",
       "      <td>1</td>\n",
       "      <td>11103228</td>\n",
       "      <td>8</td>\n",
       "      <td>98975028 - 98975031</td>\n",
       "      <td>8908-8826</td>\n",
       "      <td>0</td>\n",
       "      <td>t</td>\n",
       "      <td>POLYGON ((-80.19704 25.88977, -80.19705 25.889...</td>\n",
       "      <td>2.466567e-09</td>\n",
       "    </tr>\n",
       "    <tr>\n",
       "      <th>3</th>\n",
       "      <td>0</td>\n",
       "      <td>1</td>\n",
       "      <td>11103228</td>\n",
       "      <td>8</td>\n",
       "      <td>98975028 - 98975031</td>\n",
       "      <td>8908-8826</td>\n",
       "      <td>1</td>\n",
       "      <td>t</td>\n",
       "      <td>POLYGON ((-80.19704 25.88977, -80.19705 25.889...</td>\n",
       "      <td>2.466567e-09</td>\n",
       "    </tr>\n",
       "    <tr>\n",
       "      <th>4</th>\n",
       "      <td>0</td>\n",
       "      <td>0</td>\n",
       "      <td>11103228</td>\n",
       "      <td>7</td>\n",
       "      <td>98975025 - 98975028</td>\n",
       "      <td>8908-8826</td>\n",
       "      <td>0</td>\n",
       "      <td>t</td>\n",
       "      <td>POLYGON ((-80.19704 25.88977, -80.19705 25.889...</td>\n",
       "      <td>1.750900e-09</td>\n",
       "    </tr>\n",
       "    <tr>\n",
       "      <th>5</th>\n",
       "      <td>0</td>\n",
       "      <td>0</td>\n",
       "      <td>11103228</td>\n",
       "      <td>7</td>\n",
       "      <td>98975025 - 98975028</td>\n",
       "      <td>8908-8826</td>\n",
       "      <td>1</td>\n",
       "      <td>t</td>\n",
       "      <td>POLYGON ((-80.19704 25.88977, -80.19705 25.889...</td>\n",
       "      <td>1.750900e-09</td>\n",
       "    </tr>\n",
       "    <tr>\n",
       "      <th>6</th>\n",
       "      <td>0</td>\n",
       "      <td>5</td>\n",
       "      <td>11128934</td>\n",
       "      <td>3</td>\n",
       "      <td>98975028 - 99139908</td>\n",
       "      <td>8908-8826</td>\n",
       "      <td>0</td>\n",
       "      <td>t</td>\n",
       "      <td>POLYGON ((-80.19704 25.88977, -80.19705 25.889...</td>\n",
       "      <td>2.983087e-08</td>\n",
       "    </tr>\n",
       "    <tr>\n",
       "      <th>7</th>\n",
       "      <td>0</td>\n",
       "      <td>5</td>\n",
       "      <td>11128934</td>\n",
       "      <td>3</td>\n",
       "      <td>98975028 - 99139908</td>\n",
       "      <td>8908-8826</td>\n",
       "      <td>1</td>\n",
       "      <td>t</td>\n",
       "      <td>POLYGON ((-80.19704 25.88977, -80.19705 25.889...</td>\n",
       "      <td>2.983087e-08</td>\n",
       "    </tr>\n",
       "  </tbody>\n",
       "</table>\n",
       "</div>"
      ],
      "text/plain": [
       "   t_1  index    way_id  segment_seq       osm_segment_id segment_id  \\\n",
       "0    0      4  11128934            2  99139906 - 98975028  8908-8826   \n",
       "1    0      4  11128934            2  99139906 - 98975028  8908-8826   \n",
       "2    0      1  11103228            8  98975028 - 98975031  8908-8826   \n",
       "3    0      1  11103228            8  98975028 - 98975031  8908-8826   \n",
       "4    0      0  11103228            7  98975025 - 98975028  8908-8826   \n",
       "5    0      0  11103228            7  98975025 - 98975028  8908-8826   \n",
       "6    0      5  11128934            3  98975028 - 99139908  8908-8826   \n",
       "7    0      5  11128934            3  98975028 - 99139908  8908-8826   \n",
       "\n",
       "   index_right t_2                                           geometry  \\\n",
       "0            0   t  POLYGON ((-80.19704 25.88977, -80.19705 25.889...   \n",
       "1            1   t  POLYGON ((-80.19704 25.88977, -80.19705 25.889...   \n",
       "2            0   t  POLYGON ((-80.19704 25.88977, -80.19705 25.889...   \n",
       "3            1   t  POLYGON ((-80.19704 25.88977, -80.19705 25.889...   \n",
       "4            0   t  POLYGON ((-80.19704 25.88977, -80.19705 25.889...   \n",
       "5            1   t  POLYGON ((-80.19704 25.88977, -80.19705 25.889...   \n",
       "6            0   t  POLYGON ((-80.19704 25.88977, -80.19705 25.889...   \n",
       "7            1   t  POLYGON ((-80.19704 25.88977, -80.19705 25.889...   \n",
       "\n",
       "           area  \n",
       "0  1.772229e-09  \n",
       "1  1.772229e-09  \n",
       "2  2.466567e-09  \n",
       "3  2.466567e-09  \n",
       "4  1.750900e-09  \n",
       "5  1.750900e-09  \n",
       "6  2.983087e-08  \n",
       "7  2.983087e-08  "
      ]
     },
     "execution_count": 430,
     "metadata": {},
     "output_type": "execute_result"
    }
   ],
   "source": [
    "ov = gpd.overlay(tbu.head(1), t_int, how='intersection')\n",
    "ov['area'] = ov.area\n",
    "ov"
   ]
  },
  {
   "cell_type": "code",
   "execution_count": 431,
   "metadata": {},
   "outputs": [
    {
     "data": {
      "text/html": [
       "<div>\n",
       "<style scoped>\n",
       "    .dataframe tbody tr th:only-of-type {\n",
       "        vertical-align: middle;\n",
       "    }\n",
       "\n",
       "    .dataframe tbody tr th {\n",
       "        vertical-align: top;\n",
       "    }\n",
       "\n",
       "    .dataframe thead th {\n",
       "        text-align: right;\n",
       "    }\n",
       "</style>\n",
       "<table border=\"1\" class=\"dataframe\">\n",
       "  <thead>\n",
       "    <tr style=\"text-align: right;\">\n",
       "      <th></th>\n",
       "      <th>index</th>\n",
       "      <th>way_id</th>\n",
       "      <th>segment_seq</th>\n",
       "      <th>osm_segment_id</th>\n",
       "      <th>segment_id</th>\n",
       "      <th>geometry</th>\n",
       "      <th>index_right</th>\n",
       "      <th>t</th>\n",
       "      <th>area_t</th>\n",
       "    </tr>\n",
       "  </thead>\n",
       "  <tbody>\n",
       "    <tr>\n",
       "      <th>0</th>\n",
       "      <td>0</td>\n",
       "      <td>11103228</td>\n",
       "      <td>7</td>\n",
       "      <td>98975025 - 98975028</td>\n",
       "      <td>8908-8826</td>\n",
       "      <td>POLYGON ((-80.19708 25.88978, -80.19708 25.889...</td>\n",
       "      <td>0</td>\n",
       "      <td>t</td>\n",
       "      <td>4.530003e-08</td>\n",
       "    </tr>\n",
       "    <tr>\n",
       "      <th>1</th>\n",
       "      <td>1</td>\n",
       "      <td>11103228</td>\n",
       "      <td>8</td>\n",
       "      <td>98975028 - 98975031</td>\n",
       "      <td>8908-8826</td>\n",
       "      <td>POLYGON ((-80.19717 25.89181, -80.19717 25.891...</td>\n",
       "      <td>0</td>\n",
       "      <td>t</td>\n",
       "      <td>1.242749e-07</td>\n",
       "    </tr>\n",
       "    <tr>\n",
       "      <th>2</th>\n",
       "      <td>4</td>\n",
       "      <td>11128934</td>\n",
       "      <td>2</td>\n",
       "      <td>99139906 - 98975028</td>\n",
       "      <td>8908-8826</td>\n",
       "      <td>POLYGON ((-80.19705 25.88981, -80.19705 25.889...</td>\n",
       "      <td>0</td>\n",
       "      <td>t</td>\n",
       "      <td>4.511272e-08</td>\n",
       "    </tr>\n",
       "    <tr>\n",
       "      <th>3</th>\n",
       "      <td>5</td>\n",
       "      <td>11128934</td>\n",
       "      <td>3</td>\n",
       "      <td>98975028 - 99139908</td>\n",
       "      <td>8908-8826</td>\n",
       "      <td>POLYGON ((-80.19628 25.88987, -80.19627 25.889...</td>\n",
       "      <td>0</td>\n",
       "      <td>t</td>\n",
       "      <td>4.479705e-08</td>\n",
       "    </tr>\n",
       "    <tr>\n",
       "      <th>4</th>\n",
       "      <td>0</td>\n",
       "      <td>11103228</td>\n",
       "      <td>7</td>\n",
       "      <td>98975025 - 98975028</td>\n",
       "      <td>8908-8826</td>\n",
       "      <td>POLYGON ((-80.19708 25.88978, -80.19708 25.889...</td>\n",
       "      <td>1</td>\n",
       "      <td>t</td>\n",
       "      <td>4.530003e-08</td>\n",
       "    </tr>\n",
       "    <tr>\n",
       "      <th>5</th>\n",
       "      <td>1</td>\n",
       "      <td>11103228</td>\n",
       "      <td>8</td>\n",
       "      <td>98975028 - 98975031</td>\n",
       "      <td>8908-8826</td>\n",
       "      <td>POLYGON ((-80.19717 25.89181, -80.19717 25.891...</td>\n",
       "      <td>1</td>\n",
       "      <td>t</td>\n",
       "      <td>1.242749e-07</td>\n",
       "    </tr>\n",
       "    <tr>\n",
       "      <th>6</th>\n",
       "      <td>3</td>\n",
       "      <td>11128934</td>\n",
       "      <td>1</td>\n",
       "      <td>99139904 - 99139906</td>\n",
       "      <td>8908-8826</td>\n",
       "      <td>POLYGON ((-80.19784 25.88978, -80.19783 25.889...</td>\n",
       "      <td>1</td>\n",
       "      <td>t</td>\n",
       "      <td>4.747895e-08</td>\n",
       "    </tr>\n",
       "    <tr>\n",
       "      <th>7</th>\n",
       "      <td>4</td>\n",
       "      <td>11128934</td>\n",
       "      <td>2</td>\n",
       "      <td>99139906 - 98975028</td>\n",
       "      <td>8908-8826</td>\n",
       "      <td>POLYGON ((-80.19705 25.88981, -80.19705 25.889...</td>\n",
       "      <td>1</td>\n",
       "      <td>t</td>\n",
       "      <td>4.511272e-08</td>\n",
       "    </tr>\n",
       "    <tr>\n",
       "      <th>8</th>\n",
       "      <td>5</td>\n",
       "      <td>11128934</td>\n",
       "      <td>3</td>\n",
       "      <td>98975028 - 99139908</td>\n",
       "      <td>8908-8826</td>\n",
       "      <td>POLYGON ((-80.19628 25.88987, -80.19627 25.889...</td>\n",
       "      <td>1</td>\n",
       "      <td>t</td>\n",
       "      <td>4.479705e-08</td>\n",
       "    </tr>\n",
       "    <tr>\n",
       "      <th>9</th>\n",
       "      <td>7</td>\n",
       "      <td>11152057</td>\n",
       "      <td>1</td>\n",
       "      <td>99139906 - 99311970</td>\n",
       "      <td>8908-8826</td>\n",
       "      <td>POLYGON ((-80.19794 25.89178, -80.19794 25.891...</td>\n",
       "      <td>1</td>\n",
       "      <td>t</td>\n",
       "      <td>1.243119e-07</td>\n",
       "    </tr>\n",
       "  </tbody>\n",
       "</table>\n",
       "</div>"
      ],
      "text/plain": [
       "   index    way_id  segment_seq       osm_segment_id segment_id  \\\n",
       "0      0  11103228            7  98975025 - 98975028  8908-8826   \n",
       "1      1  11103228            8  98975028 - 98975031  8908-8826   \n",
       "2      4  11128934            2  99139906 - 98975028  8908-8826   \n",
       "3      5  11128934            3  98975028 - 99139908  8908-8826   \n",
       "4      0  11103228            7  98975025 - 98975028  8908-8826   \n",
       "5      1  11103228            8  98975028 - 98975031  8908-8826   \n",
       "6      3  11128934            1  99139904 - 99139906  8908-8826   \n",
       "7      4  11128934            2  99139906 - 98975028  8908-8826   \n",
       "8      5  11128934            3  98975028 - 99139908  8908-8826   \n",
       "9      7  11152057            1  99139906 - 99311970  8908-8826   \n",
       "\n",
       "                                            geometry  index_right  t  \\\n",
       "0  POLYGON ((-80.19708 25.88978, -80.19708 25.889...            0  t   \n",
       "1  POLYGON ((-80.19717 25.89181, -80.19717 25.891...            0  t   \n",
       "2  POLYGON ((-80.19705 25.88981, -80.19705 25.889...            0  t   \n",
       "3  POLYGON ((-80.19628 25.88987, -80.19627 25.889...            0  t   \n",
       "4  POLYGON ((-80.19708 25.88978, -80.19708 25.889...            1  t   \n",
       "5  POLYGON ((-80.19717 25.89181, -80.19717 25.891...            1  t   \n",
       "6  POLYGON ((-80.19784 25.88978, -80.19783 25.889...            1  t   \n",
       "7  POLYGON ((-80.19705 25.88981, -80.19705 25.889...            1  t   \n",
       "8  POLYGON ((-80.19628 25.88987, -80.19627 25.889...            1  t   \n",
       "9  POLYGON ((-80.19794 25.89178, -80.19794 25.891...            1  t   \n",
       "\n",
       "         area_t  \n",
       "0  4.530003e-08  \n",
       "1  1.242749e-07  \n",
       "2  4.511272e-08  \n",
       "3  4.479705e-08  \n",
       "4  4.530003e-08  \n",
       "5  1.242749e-07  \n",
       "6  4.747895e-08  \n",
       "7  4.511272e-08  \n",
       "8  4.479705e-08  \n",
       "9  1.243119e-07  "
      ]
     },
     "execution_count": 431,
     "metadata": {},
     "output_type": "execute_result"
    }
   ],
   "source": [
    "t_int['area_t'] = t_int.area\n",
    "t_int"
   ]
  },
  {
   "cell_type": "code",
   "execution_count": 434,
   "metadata": {},
   "outputs": [],
   "source": [
    "con = pd.merge(ov, t_int[['osm_segment_id', 'area_t']].drop_duplicates(subset='osm_segment_id'), left_on='osm_segment_id', right_on='osm_segment_id', how='left')"
   ]
  },
  {
   "cell_type": "code",
   "execution_count": 435,
   "metadata": {},
   "outputs": [],
   "source": [
    "con['perc'] = con['area']/con['area_t']*100"
   ]
  },
  {
   "cell_type": "code",
   "execution_count": 436,
   "metadata": {},
   "outputs": [
    {
     "data": {
      "text/html": [
       "<div>\n",
       "<style scoped>\n",
       "    .dataframe tbody tr th:only-of-type {\n",
       "        vertical-align: middle;\n",
       "    }\n",
       "\n",
       "    .dataframe tbody tr th {\n",
       "        vertical-align: top;\n",
       "    }\n",
       "\n",
       "    .dataframe thead th {\n",
       "        text-align: right;\n",
       "    }\n",
       "</style>\n",
       "<table border=\"1\" class=\"dataframe\">\n",
       "  <thead>\n",
       "    <tr style=\"text-align: right;\">\n",
       "      <th></th>\n",
       "      <th>t_1</th>\n",
       "      <th>index</th>\n",
       "      <th>way_id</th>\n",
       "      <th>segment_seq</th>\n",
       "      <th>osm_segment_id</th>\n",
       "      <th>segment_id</th>\n",
       "      <th>index_right</th>\n",
       "      <th>t_2</th>\n",
       "      <th>geometry</th>\n",
       "      <th>area</th>\n",
       "      <th>area_t</th>\n",
       "      <th>perc</th>\n",
       "    </tr>\n",
       "  </thead>\n",
       "  <tbody>\n",
       "    <tr>\n",
       "      <th>0</th>\n",
       "      <td>0</td>\n",
       "      <td>4</td>\n",
       "      <td>11128934</td>\n",
       "      <td>2</td>\n",
       "      <td>99139906 - 98975028</td>\n",
       "      <td>8908-8826</td>\n",
       "      <td>0</td>\n",
       "      <td>t</td>\n",
       "      <td>POLYGON ((-80.19704 25.88977, -80.19705 25.889...</td>\n",
       "      <td>1.772229e-09</td>\n",
       "      <td>4.511272e-08</td>\n",
       "      <td>3.928445</td>\n",
       "    </tr>\n",
       "    <tr>\n",
       "      <th>1</th>\n",
       "      <td>0</td>\n",
       "      <td>4</td>\n",
       "      <td>11128934</td>\n",
       "      <td>2</td>\n",
       "      <td>99139906 - 98975028</td>\n",
       "      <td>8908-8826</td>\n",
       "      <td>1</td>\n",
       "      <td>t</td>\n",
       "      <td>POLYGON ((-80.19704 25.88977, -80.19705 25.889...</td>\n",
       "      <td>1.772229e-09</td>\n",
       "      <td>4.511272e-08</td>\n",
       "      <td>3.928445</td>\n",
       "    </tr>\n",
       "    <tr>\n",
       "      <th>2</th>\n",
       "      <td>0</td>\n",
       "      <td>1</td>\n",
       "      <td>11103228</td>\n",
       "      <td>8</td>\n",
       "      <td>98975028 - 98975031</td>\n",
       "      <td>8908-8826</td>\n",
       "      <td>0</td>\n",
       "      <td>t</td>\n",
       "      <td>POLYGON ((-80.19704 25.88977, -80.19705 25.889...</td>\n",
       "      <td>2.466567e-09</td>\n",
       "      <td>1.242749e-07</td>\n",
       "      <td>1.984767</td>\n",
       "    </tr>\n",
       "    <tr>\n",
       "      <th>3</th>\n",
       "      <td>0</td>\n",
       "      <td>1</td>\n",
       "      <td>11103228</td>\n",
       "      <td>8</td>\n",
       "      <td>98975028 - 98975031</td>\n",
       "      <td>8908-8826</td>\n",
       "      <td>1</td>\n",
       "      <td>t</td>\n",
       "      <td>POLYGON ((-80.19704 25.88977, -80.19705 25.889...</td>\n",
       "      <td>2.466567e-09</td>\n",
       "      <td>1.242749e-07</td>\n",
       "      <td>1.984767</td>\n",
       "    </tr>\n",
       "    <tr>\n",
       "      <th>4</th>\n",
       "      <td>0</td>\n",
       "      <td>0</td>\n",
       "      <td>11103228</td>\n",
       "      <td>7</td>\n",
       "      <td>98975025 - 98975028</td>\n",
       "      <td>8908-8826</td>\n",
       "      <td>0</td>\n",
       "      <td>t</td>\n",
       "      <td>POLYGON ((-80.19704 25.88977, -80.19705 25.889...</td>\n",
       "      <td>1.750900e-09</td>\n",
       "      <td>4.530003e-08</td>\n",
       "      <td>3.865118</td>\n",
       "    </tr>\n",
       "    <tr>\n",
       "      <th>5</th>\n",
       "      <td>0</td>\n",
       "      <td>0</td>\n",
       "      <td>11103228</td>\n",
       "      <td>7</td>\n",
       "      <td>98975025 - 98975028</td>\n",
       "      <td>8908-8826</td>\n",
       "      <td>1</td>\n",
       "      <td>t</td>\n",
       "      <td>POLYGON ((-80.19704 25.88977, -80.19705 25.889...</td>\n",
       "      <td>1.750900e-09</td>\n",
       "      <td>4.530003e-08</td>\n",
       "      <td>3.865118</td>\n",
       "    </tr>\n",
       "    <tr>\n",
       "      <th>6</th>\n",
       "      <td>0</td>\n",
       "      <td>5</td>\n",
       "      <td>11128934</td>\n",
       "      <td>3</td>\n",
       "      <td>98975028 - 99139908</td>\n",
       "      <td>8908-8826</td>\n",
       "      <td>0</td>\n",
       "      <td>t</td>\n",
       "      <td>POLYGON ((-80.19704 25.88977, -80.19705 25.889...</td>\n",
       "      <td>2.983087e-08</td>\n",
       "      <td>4.479705e-08</td>\n",
       "      <td>66.591157</td>\n",
       "    </tr>\n",
       "    <tr>\n",
       "      <th>7</th>\n",
       "      <td>0</td>\n",
       "      <td>5</td>\n",
       "      <td>11128934</td>\n",
       "      <td>3</td>\n",
       "      <td>98975028 - 99139908</td>\n",
       "      <td>8908-8826</td>\n",
       "      <td>1</td>\n",
       "      <td>t</td>\n",
       "      <td>POLYGON ((-80.19704 25.88977, -80.19705 25.889...</td>\n",
       "      <td>2.983087e-08</td>\n",
       "      <td>4.479705e-08</td>\n",
       "      <td>66.591157</td>\n",
       "    </tr>\n",
       "  </tbody>\n",
       "</table>\n",
       "</div>"
      ],
      "text/plain": [
       "   t_1  index    way_id  segment_seq       osm_segment_id segment_id  \\\n",
       "0    0      4  11128934            2  99139906 - 98975028  8908-8826   \n",
       "1    0      4  11128934            2  99139906 - 98975028  8908-8826   \n",
       "2    0      1  11103228            8  98975028 - 98975031  8908-8826   \n",
       "3    0      1  11103228            8  98975028 - 98975031  8908-8826   \n",
       "4    0      0  11103228            7  98975025 - 98975028  8908-8826   \n",
       "5    0      0  11103228            7  98975025 - 98975028  8908-8826   \n",
       "6    0      5  11128934            3  98975028 - 99139908  8908-8826   \n",
       "7    0      5  11128934            3  98975028 - 99139908  8908-8826   \n",
       "\n",
       "   index_right t_2                                           geometry  \\\n",
       "0            0   t  POLYGON ((-80.19704 25.88977, -80.19705 25.889...   \n",
       "1            1   t  POLYGON ((-80.19704 25.88977, -80.19705 25.889...   \n",
       "2            0   t  POLYGON ((-80.19704 25.88977, -80.19705 25.889...   \n",
       "3            1   t  POLYGON ((-80.19704 25.88977, -80.19705 25.889...   \n",
       "4            0   t  POLYGON ((-80.19704 25.88977, -80.19705 25.889...   \n",
       "5            1   t  POLYGON ((-80.19704 25.88977, -80.19705 25.889...   \n",
       "6            0   t  POLYGON ((-80.19704 25.88977, -80.19705 25.889...   \n",
       "7            1   t  POLYGON ((-80.19704 25.88977, -80.19705 25.889...   \n",
       "\n",
       "           area        area_t       perc  \n",
       "0  1.772229e-09  4.511272e-08   3.928445  \n",
       "1  1.772229e-09  4.511272e-08   3.928445  \n",
       "2  2.466567e-09  1.242749e-07   1.984767  \n",
       "3  2.466567e-09  1.242749e-07   1.984767  \n",
       "4  1.750900e-09  4.530003e-08   3.865118  \n",
       "5  1.750900e-09  4.530003e-08   3.865118  \n",
       "6  2.983087e-08  4.479705e-08  66.591157  \n",
       "7  2.983087e-08  4.479705e-08  66.591157  "
      ]
     },
     "execution_count": 436,
     "metadata": {},
     "output_type": "execute_result"
    }
   ],
   "source": [
    "con"
   ]
  },
  {
   "cell_type": "code",
   "execution_count": 437,
   "metadata": {},
   "outputs": [
    {
     "data": {
      "text/html": [
       "<div>\n",
       "<style scoped>\n",
       "    .dataframe tbody tr th:only-of-type {\n",
       "        vertical-align: middle;\n",
       "    }\n",
       "\n",
       "    .dataframe tbody tr th {\n",
       "        vertical-align: top;\n",
       "    }\n",
       "\n",
       "    .dataframe thead th {\n",
       "        text-align: right;\n",
       "    }\n",
       "</style>\n",
       "<table border=\"1\" class=\"dataframe\">\n",
       "  <thead>\n",
       "    <tr style=\"text-align: right;\">\n",
       "      <th></th>\n",
       "      <th>index</th>\n",
       "      <th>way_id</th>\n",
       "      <th>segment_seq</th>\n",
       "      <th>osm_segment_id</th>\n",
       "      <th>geometry</th>\n",
       "      <th>index_right</th>\n",
       "      <th>segment_id</th>\n",
       "    </tr>\n",
       "  </thead>\n",
       "  <tbody>\n",
       "    <tr>\n",
       "      <th>5</th>\n",
       "      <td>117</td>\n",
       "      <td>11128934</td>\n",
       "      <td>3</td>\n",
       "      <td>98975028 - 99139908</td>\n",
       "      <td>LINESTRING (-80.19705 25.88978, -80.19627 25.8...</td>\n",
       "      <td>279</td>\n",
       "      <td>8908-8826</td>\n",
       "    </tr>\n",
       "  </tbody>\n",
       "</table>\n",
       "</div>"
      ],
      "text/plain": [
       "   index    way_id  segment_seq       osm_segment_id  \\\n",
       "5    117  11128934            3  98975028 - 99139908   \n",
       "\n",
       "                                            geometry  index_right segment_id  \n",
       "5  LINESTRING (-80.19705 25.88978, -80.19627 25.8...          279  8908-8826  "
      ]
     },
     "execution_count": 437,
     "metadata": {},
     "output_type": "execute_result"
    }
   ],
   "source": [
    "osm_test.loc[osm_test.osm_segment_id=='98975028 - 99139908']"
   ]
  },
  {
   "cell_type": "code",
   "execution_count": 438,
   "metadata": {},
   "outputs": [
    {
     "name": "stdout",
     "output_type": "stream",
     "text": [
      "User Guide: https://docs.kepler.gl/docs/keplergl-jupyter\n"
     ]
    },
    {
     "data": {
      "application/vnd.jupyter.widget-view+json": {
       "model_id": "1476e521cb054bfdb16483159e4a8a34",
       "version_major": 2,
       "version_minor": 0
      },
      "text/plain": [
       "KeplerGl(data={'data':    index    way_id  segment_seq       osm_segment_id  \\\n",
       "5    117  11128934            3…"
      ]
     },
     "metadata": {},
     "output_type": "display_data"
    }
   ],
   "source": [
    "kp.KeplerGl(height=400, data=dict(data=osm_test.loc[osm_test.osm_segment_id=='98975028 - 99139908']))"
   ]
  },
  {
   "cell_type": "code",
   "execution_count": null,
   "metadata": {},
   "outputs": [],
   "source": []
  },
  {
   "cell_type": "code",
   "execution_count": 368,
   "metadata": {},
   "outputs": [],
   "source": []
  },
  {
   "cell_type": "code",
   "execution_count": 348,
   "metadata": {},
   "outputs": [],
   "source": []
  },
  {
   "cell_type": "code",
   "execution_count": null,
   "metadata": {},
   "outputs": [],
   "source": []
  },
  {
   "cell_type": "code",
   "execution_count": null,
   "metadata": {},
   "outputs": [],
   "source": []
  },
  {
   "cell_type": "code",
   "execution_count": null,
   "metadata": {},
   "outputs": [],
   "source": []
  },
  {
   "cell_type": "code",
   "execution_count": null,
   "metadata": {},
   "outputs": [],
   "source": []
  },
  {
   "cell_type": "code",
   "execution_count": null,
   "metadata": {},
   "outputs": [],
   "source": []
  },
  {
   "cell_type": "markdown",
   "metadata": {},
   "source": [
    "# OSM segments"
   ]
  },
  {
   "cell_type": "code",
   "execution_count": 75,
   "metadata": {},
   "outputs": [
    {
     "name": "stderr",
     "output_type": "stream",
     "text": [
      "'mdt' is not recognized as an internal or external command,\n",
      "operable program or batch file.\n"
     ]
    }
   ],
   "source": [
    "!mdt create-geometry-file miami 2019 --bbox=\"-80.198654,25.773262,-80.141864,25.966199\"  > miami_osm.geojson"
   ]
  },
  {
   "cell_type": "code",
   "execution_count": null,
   "metadata": {},
   "outputs": [],
   "source": [
    "# We get an xml with the API and then have to parse it.\n",
    "# Overpass API\n",
    "# 'https://overpass-api.de/api/map?bbox=-80.19866398,25.77325297,-80.14185402,25.96620802'\n",
    "\n",
    "import xml.etree.ElementTree as ET\n",
    "tree = ET.parse(r\"C:\\Users\\santi\\Dropbox (Remix)\\Remix\\Data Team\\Data Analytics\\Corridor Analysis\\osm_segments\\map (2)\")\n",
    "root = tree.getroot()\n",
    "\n",
    "ids = []\n",
    "lat = []\n",
    "lon = []\n",
    "\n",
    "for node in root.findall('node'):\n",
    "    ids = ids + [node.attrib['id']]\n",
    "    lat = lat + [node.attrib['lat']]\n",
    "    lon = lon + [node.attrib['lon']]\n",
    "\n",
    "nodes = pd.DataFrame()\n",
    "nodes['node_id'] = ids\n",
    "nodes['lat'] = lat\n",
    "nodes['lon'] = lon\n",
    "\n",
    "nodes['geometry'] = [Point(float(row.lon), float(row.lat)) for index, row in nodes.iterrows()]\n",
    "n = gpd.GeoDataFrame(data=nodes.drop('geometry', axis=1), geometry =nodes.geometry )"
   ]
  },
  {
   "cell_type": "code",
   "execution_count": null,
   "metadata": {},
   "outputs": [],
   "source": [
    "kp.KeplerGl(data=dict(data=n, name='nodes'))"
   ]
  },
  {
   "cell_type": "code",
   "execution_count": null,
   "metadata": {},
   "outputs": [],
   "source": [
    "ways_list = []\n",
    "node_sequence = []\n",
    "\n",
    "for way in root.findall('way'):\n",
    "    ways_list = ways_list + [way.attrib['id']]*len(way.findall('nd'))\n",
    "    node_sequence = node_sequence + list(range(1, len(way.findall('nd'))+1))\n",
    "    \n",
    "nodes_list = [nd.attrib['ref'] for nd in root.iter('nd')]\n",
    "\n",
    "ways = pd.DataFrame()\n",
    "ways['way_id'] = ways_list\n",
    "ways['node_id'] = nodes_list\n",
    "ways['node_sequence'] = node_sequence"
   ]
  },
  {
   "cell_type": "code",
   "execution_count": null,
   "metadata": {},
   "outputs": [],
   "source": [
    "ways_list = []\n",
    "ways_tagsk = []\n",
    "ways_tagsv = []\n",
    "\n",
    "for way in root.findall('way'):\n",
    "    ways_list = ways_list + [way.attrib['id']]*len(way.findall('tag'))\n",
    "    \n",
    "    for tag in way.findall('tag'):\n",
    "        ways_tagsk = ways_tagsk + [tag.attrib['k']]\n",
    "        ways_tagsv = ways_tagsv + [tag.attrib['v']]\n",
    "        \n",
    "tags = pd.DataFrame()\n",
    "tags['way_id'] = ways_list\n",
    "tags['k'] = ways_tagsk\n",
    "tags['v'] = ways_tagsv \n",
    "\n",
    "tag_filter = ['motorway', 'motorway_link','trunk' , 'trunk_link','primary' , 'primary_link','secondary' , \n",
    "              'secondary_link','tertiary' , 'tertiary_link','unclassified' , \n",
    "              'unclassified_link','residential' , 'residential_link','service' , 'service_link','living_street']\n",
    "\n",
    "way_filter = tags.loc[(tags.v.isin(tag_filter))&(tags.k=='highway'), 'way_id'].unique()\n",
    "\n",
    "ways = ways.loc[ways.way_id.isin(way_filter)]"
   ]
  },
  {
   "cell_type": "code",
   "execution_count": 89,
   "metadata": {},
   "outputs": [],
   "source": [
    "segments = pd.merge(ways, nodes, how='left')\n",
    "\n",
    "from shapely.geometry import Point, LineString\n",
    "\n",
    "segments['end_node_id'] = segments['node_id'].shift(-1)\n",
    "segments['next_way_id'] = segments['way_id'].shift(-1)\n",
    "segments['next_geometry'] = segments['geometry'].shift(-1)\n",
    "segments = segments.loc[~segments.next_geometry.isnull()]\n",
    "segments['seg_geometry'] = segments.apply(lambda x: LineString([x.geometry, x.next_geometry]), axis=1)\n",
    "segments['keep'] = segments['way_id'] ==segments['next_way_id']\n",
    "segments = segments.loc[segments['keep'], ['way_id', 'node_id', 'end_node_id', 'seg_geometry']]\n",
    "segments.columns=['way_id', 'start_node_id', 'end_node_id', 'geometry']\n",
    "segments['segment_id'] = segments.start_node_id + '-' + segments.end_node_id\n",
    "segments_gdf = gpd.GeoDataFrame(data=segments.loc[:,['segment_id','way_id', 'start_node_id', 'end_node_id']],\n",
    "                               geometry=segments.geometry)"
   ]
  },
  {
   "cell_type": "code",
   "execution_count": 90,
   "metadata": {},
   "outputs": [
    {
     "name": "stdout",
     "output_type": "stream",
     "text": [
      "User Guide: https://docs.kepler.gl/docs/keplergl-jupyter\n"
     ]
    },
    {
     "data": {
      "application/vnd.jupyter.widget-view+json": {
       "model_id": "799ff2d0308142e5bf0b298421b6db95",
       "version_major": 2,
       "version_minor": 0
      },
      "text/plain": [
       "KeplerGl(data={'data':                 segment_id     way_id start_node_id end_node_id  \\\n",
       "0      98975064-5435…"
      ]
     },
     "metadata": {},
     "output_type": "display_data"
    }
   ],
   "source": [
    "kp.KeplerGl(data=dict(data=segments_gdf, name='segments'))"
   ]
  },
  {
   "cell_type": "markdown",
   "metadata": {},
   "source": [
    "# Get the geometry of OSM segments"
   ]
  },
  {
   "cell_type": "markdown",
   "metadata": {},
   "source": [
    "After exploring different alternatives it seems that there are no good ways of getting both the geometry and the start and end nodes of each segment.\n",
    "\n",
    "In contrast, we can manage to get the geometry in one way and the node in a different one.\n",
    "To get the geometries I went to this [link](https://overpass-turbo.eu/) and ran a script with the bounding box of the coordinates surrounding the area I need.\n",
    "\n",
    "That returns a Geojson with the geometry for each segment. A sample script can be found below\n",
    "\n",
    "\n",
    "`(way(51.477,-0.001,51.478,0.001);\n",
    "  node(w);\n",
    "  relation(51.477,-0.001,51.478,0.001); );\n",
    "out skel;`"
   ]
  },
  {
   "cell_type": "code",
   "execution_count": 144,
   "metadata": {},
   "outputs": [
    {
     "name": "stdout",
     "output_type": "stream",
     "text": [
      "User Guide: https://docs.kepler.gl/docs/keplergl-jupyter\n"
     ]
    },
    {
     "data": {
      "application/vnd.jupyter.widget-view+json": {
       "model_id": "f2d968df07504b16bb0587eea81045f4",
       "version_major": 2,
       "version_minor": 0
      },
      "text/plain": [
       "KeplerGl(data={'data':             id          @id @relations  \\\n",
       "0  way/8879404  way/8879404       None   \n",
       "1  …"
      ]
     },
     "metadata": {},
     "output_type": "display_data"
    }
   ],
   "source": [
    "e = gpd.read_file(r\"C:\\Users\\santi\\Dropbox (Remix)\\Remix\\Data Team\\Data Analytics\\Corridor Analysis\\osm_segments\\export (1).geojson\")\n",
    "m = kp.KeplerGl(data=dict(data=e.loc[0:1,:], name='example'))"
   ]
  },
  {
   "cell_type": "code",
   "execution_count": 238,
   "metadata": {},
   "outputs": [
    {
     "name": "stdout",
     "output_type": "stream",
     "text": [
      "POINT (-0.0021208 51.4812272)\n"
     ]
    }
   ],
   "source": [
    "print(points[0])"
   ]
  },
  {
   "cell_type": "code",
   "execution_count": 153,
   "metadata": {},
   "outputs": [
    {
     "name": "stdout",
     "output_type": "stream",
     "text": [
      "User Guide: https://docs.kepler.gl/docs/keplergl-jupyter\n"
     ]
    },
    {
     "data": {
      "application/vnd.jupyter.widget-view+json": {
       "model_id": "e17b1a19524a4e6688b8bffa46db0ccc",
       "version_major": 2,
       "version_minor": 0
      },
      "text/plain": [
       "KeplerGl(data={'data':     node                   geometry\n",
       "0      0  POINT (-0.00212 51.48123)\n",
       "1      1  POINT…"
      ]
     },
     "metadata": {},
     "output_type": "display_data"
    }
   ],
   "source": [
    "from shapely.geometry import Point\n",
    "\n",
    "\n",
    "points = [Point(c) for c in e.loc[0,'geometry'].coords]\n",
    "df = pd.DataFrame()\n",
    "df['node'] = range(0,len(points))\n",
    "\n",
    "m = kp.KeplerGl(data=dict(data=gpd.GeoDataFrame(df, geometry = points), name='nodes'))\n",
    "m.add_data(data=e.loc[0:1,:], name='segments')\n",
    "m"
   ]
  },
  {
   "cell_type": "code",
   "execution_count": null,
   "metadata": {},
   "outputs": [],
   "source": [
    "# Overpass API\n",
    "'https://overpass-api.de/api/map?bbox=-80.3313,25.7084,-79.7923,25.9658'"
   ]
  }
 ],
 "metadata": {
  "kernelspec": {
   "display_name": "Python 3",
   "language": "python",
   "name": "python3"
  },
  "language_info": {
   "codemirror_mode": {
    "name": "ipython",
    "version": 3
   },
   "file_extension": ".py",
   "mimetype": "text/x-python",
   "name": "python",
   "nbconvert_exporter": "python",
   "pygments_lexer": "ipython3",
   "version": "3.7.4"
  }
 },
 "nbformat": 4,
 "nbformat_minor": 2
}
